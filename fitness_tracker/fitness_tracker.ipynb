{
 "cells": [
  {
   "cell_type": "markdown",
   "metadata": {},
   "source": [
    "##### Data Dictionary\n",
    "\n",
    "| Column Name           | Description                                   |\n",
    "| --------------------- | --------------------------------------------- |\n",
    "| date                  | The specific day of data recording            |\n",
    "| steps                 | Total daily step count                        |\n",
    "| weight                | Body weight measurement (in kg)               |\n",
    "| resting_heart_rate    | Heart beats per minute while at complete rest |\n",
    "| sleep_hours           | Total daily sleep duration                    |\n",
    "| active_minutes        | Total time spent in physical activity         |\n",
    "| total_calories_burned | Total daily energy expenditure                |\n",
    "| fat_burn_minutes      | Time in 50-69% of max heart rate zone         |\n",
    "| cardio_minutes        | Time in 70-84% of max heart rate zone         |\n",
    "| peak_minutes          | Time in 85%+ of max heart rate zone           |\n",
    "| workout_type          | Category of exercise performed                |\n",
    "| workout_duration      | Length of exercise session in minutes         |\n",
    "| workout_calories      | Energy expended during workout                |\n",
    "| workout_avg_hr        | Mean heart rate during exercise               |\n",
    "| workout_max_hr        | Highest heart rate during exercise            |"
   ]
  }
 ],
 "metadata": {
  "kernelspec": {
   "display_name": "Python 3",
   "language": "python",
   "name": "python3"
  },
  "language_info": {
   "name": "python",
   "version": "3.11.11"
  }
 },
 "nbformat": 4,
 "nbformat_minor": 2
}
