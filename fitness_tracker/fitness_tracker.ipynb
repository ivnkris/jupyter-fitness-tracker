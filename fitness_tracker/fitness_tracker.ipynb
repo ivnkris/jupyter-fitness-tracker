{
 "cells": [
  {
   "cell_type": "markdown",
   "metadata": {},
   "source": [
    "##### Data Dictionary\n",
    "\n",
    "| Column Name           | Description                                   |\n",
    "| --------------------- | --------------------------------------------- |\n",
    "| date                  | The specific day of data recording            |\n",
    "| steps                 | Total daily step count                        |\n",
    "| weight                | Body weight measurement (in kg)               |\n",
    "| resting_heart_rate    | Heart beats per minute while at complete rest |\n",
    "| sleep_hours           | Total daily sleep duration                    |\n",
    "| active_minutes        | Total time spent in physical activity         |\n",
    "| total_calories_burned | Total daily energy expenditure                |\n",
    "| fat_burn_minutes      | Time in 50-69% of max heart rate zone         |\n",
    "| cardio_minutes        | Time in 70-84% of max heart rate zone         |\n",
    "| peak_minutes          | Time in 85%+ of max heart rate zone           |\n",
    "| workout_type          | Category of exercise performed                |\n",
    "| workout_duration      | Length of exercise session in minutes         |\n",
    "| workout_calories      | Energy expended during workout                |\n",
    "| workout_avg_hr        | Mean heart rate during exercise               |\n",
    "| workout_max_hr        | Highest heart rate during exercise            |"
   ]
  },
  {
   "cell_type": "markdown",
   "metadata": {},
   "source": [
    "Import the required Python libraries - ```pandas``` for data analysis and ```plotly.express``` for interactive data visualization"
   ]
  },
  {
   "cell_type": "code",
   "execution_count": 1,
   "metadata": {},
   "outputs": [],
   "source": [
    "import pandas as pd\n",
    "import plotly.express as px"
   ]
  },
  {
   "cell_type": "markdown",
   "metadata": {},
   "source": [
    "#### Exploratory Data Analysis (EDA)"
   ]
  },
  {
   "cell_type": "markdown",
   "metadata": {},
   "source": [
    "Read in the ```fitness_data.csv``` file using pandas, and print out the first 5 coloumns to observe a sample of the data in the dataset."
   ]
  },
  {
   "cell_type": "code",
   "execution_count": 16,
   "metadata": {},
   "outputs": [
    {
     "data": {
      "text/html": [
       "<div>\n",
       "<style scoped>\n",
       "    .dataframe tbody tr th:only-of-type {\n",
       "        vertical-align: middle;\n",
       "    }\n",
       "\n",
       "    .dataframe tbody tr th {\n",
       "        vertical-align: top;\n",
       "    }\n",
       "\n",
       "    .dataframe thead th {\n",
       "        text-align: right;\n",
       "    }\n",
       "</style>\n",
       "<table border=\"1\" class=\"dataframe\">\n",
       "  <thead>\n",
       "    <tr style=\"text-align: right;\">\n",
       "      <th></th>\n",
       "      <th>date</th>\n",
       "      <th>weight</th>\n",
       "      <th>steps</th>\n",
       "      <th>resting_heart_rate</th>\n",
       "      <th>sleep_hours</th>\n",
       "      <th>active_minutes</th>\n",
       "      <th>total_calories_burned</th>\n",
       "      <th>workout_type</th>\n",
       "      <th>workout_duration</th>\n",
       "      <th>workout_calories</th>\n",
       "      <th>workout_avg_hr</th>\n",
       "      <th>workout_max_hr</th>\n",
       "      <th>fat_burn_minutes</th>\n",
       "      <th>cardio_minutes</th>\n",
       "      <th>peak_minutes</th>\n",
       "    </tr>\n",
       "  </thead>\n",
       "  <tbody>\n",
       "    <tr>\n",
       "      <th>0</th>\n",
       "      <td>7/1/24</td>\n",
       "      <td>75.248357</td>\n",
       "      <td>6829.0</td>\n",
       "      <td>63.68</td>\n",
       "      <td>7.03</td>\n",
       "      <td>66.0</td>\n",
       "      <td>664.0</td>\n",
       "      <td>Strength Training</td>\n",
       "      <td>68.28</td>\n",
       "      <td>641.120000</td>\n",
       "      <td>143.67</td>\n",
       "      <td>171.17</td>\n",
       "      <td>33.0</td>\n",
       "      <td>19.0</td>\n",
       "      <td>13.0</td>\n",
       "    </tr>\n",
       "    <tr>\n",
       "      <th>1</th>\n",
       "      <td>7/2/24</td>\n",
       "      <td>74.914564</td>\n",
       "      <td>7741.0</td>\n",
       "      <td>58.63</td>\n",
       "      <td>7.85</td>\n",
       "      <td>66.0</td>\n",
       "      <td>660.0</td>\n",
       "      <td>Rest</td>\n",
       "      <td>0.00</td>\n",
       "      <td>0.000000</td>\n",
       "      <td>0.00</td>\n",
       "      <td>0.00</td>\n",
       "      <td>33.0</td>\n",
       "      <td>19.0</td>\n",
       "      <td>13.0</td>\n",
       "    </tr>\n",
       "    <tr>\n",
       "      <th>2</th>\n",
       "      <td>7/3/24</td>\n",
       "      <td>75.140000</td>\n",
       "      <td>8227.0</td>\n",
       "      <td>58.47</td>\n",
       "      <td>7.53</td>\n",
       "      <td>87.0</td>\n",
       "      <td>873.0</td>\n",
       "      <td>Strength Training</td>\n",
       "      <td>34.34</td>\n",
       "      <td>366.564833</td>\n",
       "      <td>138.63</td>\n",
       "      <td>163.86</td>\n",
       "      <td>43.0</td>\n",
       "      <td>26.0</td>\n",
       "      <td>17.0</td>\n",
       "    </tr>\n",
       "    <tr>\n",
       "      <th>3</th>\n",
       "      <td>7/4/24</td>\n",
       "      <td>75.200000</td>\n",
       "      <td>13262.0</td>\n",
       "      <td>72.51</td>\n",
       "      <td>4.63</td>\n",
       "      <td>111.0</td>\n",
       "      <td>1113.0</td>\n",
       "      <td>Running</td>\n",
       "      <td>62.74</td>\n",
       "      <td>662.040000</td>\n",
       "      <td>152.04</td>\n",
       "      <td>168.87</td>\n",
       "      <td>55.0</td>\n",
       "      <td>33.0</td>\n",
       "      <td>22.0</td>\n",
       "    </tr>\n",
       "    <tr>\n",
       "      <th>4</th>\n",
       "      <td>7/5/24</td>\n",
       "      <td>75.270000</td>\n",
       "      <td>9377.0</td>\n",
       "      <td>73.32</td>\n",
       "      <td>5.38</td>\n",
       "      <td>79.0</td>\n",
       "      <td>790.0</td>\n",
       "      <td>Strength Training</td>\n",
       "      <td>77.88</td>\n",
       "      <td>677.010000</td>\n",
       "      <td>144.06</td>\n",
       "      <td>167.28</td>\n",
       "      <td>39.0</td>\n",
       "      <td>23.0</td>\n",
       "      <td>15.0</td>\n",
       "    </tr>\n",
       "  </tbody>\n",
       "</table>\n",
       "</div>"
      ],
      "text/plain": [
       "     date     weight    steps  resting_heart_rate  sleep_hours  \\\n",
       "0  7/1/24  75.248357   6829.0               63.68         7.03   \n",
       "1  7/2/24  74.914564   7741.0               58.63         7.85   \n",
       "2  7/3/24  75.140000   8227.0               58.47         7.53   \n",
       "3  7/4/24  75.200000  13262.0               72.51         4.63   \n",
       "4  7/5/24  75.270000   9377.0               73.32         5.38   \n",
       "\n",
       "   active_minutes  total_calories_burned       workout_type  workout_duration  \\\n",
       "0            66.0                  664.0  Strength Training             68.28   \n",
       "1            66.0                  660.0               Rest              0.00   \n",
       "2            87.0                  873.0  Strength Training             34.34   \n",
       "3           111.0                 1113.0            Running             62.74   \n",
       "4            79.0                  790.0  Strength Training             77.88   \n",
       "\n",
       "   workout_calories  workout_avg_hr  workout_max_hr  fat_burn_minutes  \\\n",
       "0        641.120000          143.67          171.17              33.0   \n",
       "1          0.000000            0.00            0.00              33.0   \n",
       "2        366.564833          138.63          163.86              43.0   \n",
       "3        662.040000          152.04          168.87              55.0   \n",
       "4        677.010000          144.06          167.28              39.0   \n",
       "\n",
       "   cardio_minutes  peak_minutes  \n",
       "0            19.0          13.0  \n",
       "1            19.0          13.0  \n",
       "2            26.0          17.0  \n",
       "3            33.0          22.0  \n",
       "4            23.0          15.0  "
      ]
     },
     "execution_count": 16,
     "metadata": {},
     "output_type": "execute_result"
    }
   ],
   "source": [
    "fitness_data = pd.read_csv('fitness_data.csv')\n",
    "fitness_data.head()"
   ]
  },
  {
   "cell_type": "markdown",
   "metadata": {},
   "source": [
    "As a first step of cleaning up the dataset, check for any missing values."
   ]
  },
  {
   "cell_type": "code",
   "execution_count": 17,
   "metadata": {},
   "outputs": [
    {
     "data": {
      "text/plain": [
       "date                     0\n",
       "weight                   6\n",
       "steps                    6\n",
       "resting_heart_rate       6\n",
       "sleep_hours              6\n",
       "active_minutes           6\n",
       "total_calories_burned    6\n",
       "workout_type             6\n",
       "workout_duration         6\n",
       "workout_calories         6\n",
       "workout_avg_hr           6\n",
       "workout_max_hr           6\n",
       "fat_burn_minutes         6\n",
       "cardio_minutes           6\n",
       "peak_minutes             6\n",
       "dtype: int64"
      ]
     },
     "execution_count": 17,
     "metadata": {},
     "output_type": "execute_result"
    }
   ],
   "source": [
    "# Check for missing values in the dataset\n",
    "missing_values = fitness_data.isnull().sum()\n",
    "missing_values"
   ]
  },
  {
   "cell_type": "markdown",
   "metadata": {},
   "source": [
    "Some missing values were identified, check where these are in the dataset, to see if there are any patterns, etc."
   ]
  },
  {
   "cell_type": "code",
   "execution_count": 18,
   "metadata": {},
   "outputs": [
    {
     "data": {
      "text/html": [
       "<div>\n",
       "<style scoped>\n",
       "    .dataframe tbody tr th:only-of-type {\n",
       "        vertical-align: middle;\n",
       "    }\n",
       "\n",
       "    .dataframe tbody tr th {\n",
       "        vertical-align: top;\n",
       "    }\n",
       "\n",
       "    .dataframe thead th {\n",
       "        text-align: right;\n",
       "    }\n",
       "</style>\n",
       "<table border=\"1\" class=\"dataframe\">\n",
       "  <thead>\n",
       "    <tr style=\"text-align: right;\">\n",
       "      <th></th>\n",
       "      <th>date</th>\n",
       "      <th>weight</th>\n",
       "      <th>steps</th>\n",
       "      <th>resting_heart_rate</th>\n",
       "      <th>sleep_hours</th>\n",
       "      <th>active_minutes</th>\n",
       "      <th>total_calories_burned</th>\n",
       "      <th>workout_type</th>\n",
       "      <th>workout_duration</th>\n",
       "      <th>workout_calories</th>\n",
       "      <th>workout_avg_hr</th>\n",
       "      <th>workout_max_hr</th>\n",
       "      <th>fat_burn_minutes</th>\n",
       "      <th>cardio_minutes</th>\n",
       "      <th>peak_minutes</th>\n",
       "    </tr>\n",
       "  </thead>\n",
       "  <tbody>\n",
       "    <tr>\n",
       "      <th>150</th>\n",
       "      <td>11/28/24</td>\n",
       "      <td>NaN</td>\n",
       "      <td>NaN</td>\n",
       "      <td>NaN</td>\n",
       "      <td>NaN</td>\n",
       "      <td>NaN</td>\n",
       "      <td>NaN</td>\n",
       "      <td>NaN</td>\n",
       "      <td>NaN</td>\n",
       "      <td>NaN</td>\n",
       "      <td>NaN</td>\n",
       "      <td>NaN</td>\n",
       "      <td>NaN</td>\n",
       "      <td>NaN</td>\n",
       "      <td>NaN</td>\n",
       "    </tr>\n",
       "    <tr>\n",
       "      <th>151</th>\n",
       "      <td>11/29/24</td>\n",
       "      <td>NaN</td>\n",
       "      <td>NaN</td>\n",
       "      <td>NaN</td>\n",
       "      <td>NaN</td>\n",
       "      <td>NaN</td>\n",
       "      <td>NaN</td>\n",
       "      <td>NaN</td>\n",
       "      <td>NaN</td>\n",
       "      <td>NaN</td>\n",
       "      <td>NaN</td>\n",
       "      <td>NaN</td>\n",
       "      <td>NaN</td>\n",
       "      <td>NaN</td>\n",
       "      <td>NaN</td>\n",
       "    </tr>\n",
       "    <tr>\n",
       "      <th>152</th>\n",
       "      <td>11/30/24</td>\n",
       "      <td>NaN</td>\n",
       "      <td>NaN</td>\n",
       "      <td>NaN</td>\n",
       "      <td>NaN</td>\n",
       "      <td>NaN</td>\n",
       "      <td>NaN</td>\n",
       "      <td>NaN</td>\n",
       "      <td>NaN</td>\n",
       "      <td>NaN</td>\n",
       "      <td>NaN</td>\n",
       "      <td>NaN</td>\n",
       "      <td>NaN</td>\n",
       "      <td>NaN</td>\n",
       "      <td>NaN</td>\n",
       "    </tr>\n",
       "    <tr>\n",
       "      <th>176</th>\n",
       "      <td>12/24/24</td>\n",
       "      <td>NaN</td>\n",
       "      <td>NaN</td>\n",
       "      <td>NaN</td>\n",
       "      <td>NaN</td>\n",
       "      <td>NaN</td>\n",
       "      <td>NaN</td>\n",
       "      <td>NaN</td>\n",
       "      <td>NaN</td>\n",
       "      <td>NaN</td>\n",
       "      <td>NaN</td>\n",
       "      <td>NaN</td>\n",
       "      <td>NaN</td>\n",
       "      <td>NaN</td>\n",
       "      <td>NaN</td>\n",
       "    </tr>\n",
       "    <tr>\n",
       "      <th>177</th>\n",
       "      <td>12/25/24</td>\n",
       "      <td>NaN</td>\n",
       "      <td>NaN</td>\n",
       "      <td>NaN</td>\n",
       "      <td>NaN</td>\n",
       "      <td>NaN</td>\n",
       "      <td>NaN</td>\n",
       "      <td>NaN</td>\n",
       "      <td>NaN</td>\n",
       "      <td>NaN</td>\n",
       "      <td>NaN</td>\n",
       "      <td>NaN</td>\n",
       "      <td>NaN</td>\n",
       "      <td>NaN</td>\n",
       "      <td>NaN</td>\n",
       "    </tr>\n",
       "    <tr>\n",
       "      <th>178</th>\n",
       "      <td>12/26/24</td>\n",
       "      <td>NaN</td>\n",
       "      <td>NaN</td>\n",
       "      <td>NaN</td>\n",
       "      <td>NaN</td>\n",
       "      <td>NaN</td>\n",
       "      <td>NaN</td>\n",
       "      <td>NaN</td>\n",
       "      <td>NaN</td>\n",
       "      <td>NaN</td>\n",
       "      <td>NaN</td>\n",
       "      <td>NaN</td>\n",
       "      <td>NaN</td>\n",
       "      <td>NaN</td>\n",
       "      <td>NaN</td>\n",
       "    </tr>\n",
       "  </tbody>\n",
       "</table>\n",
       "</div>"
      ],
      "text/plain": [
       "         date  weight  steps  resting_heart_rate  sleep_hours  active_minutes  \\\n",
       "150  11/28/24     NaN    NaN                 NaN          NaN             NaN   \n",
       "151  11/29/24     NaN    NaN                 NaN          NaN             NaN   \n",
       "152  11/30/24     NaN    NaN                 NaN          NaN             NaN   \n",
       "176  12/24/24     NaN    NaN                 NaN          NaN             NaN   \n",
       "177  12/25/24     NaN    NaN                 NaN          NaN             NaN   \n",
       "178  12/26/24     NaN    NaN                 NaN          NaN             NaN   \n",
       "\n",
       "     total_calories_burned workout_type  workout_duration  workout_calories  \\\n",
       "150                    NaN          NaN               NaN               NaN   \n",
       "151                    NaN          NaN               NaN               NaN   \n",
       "152                    NaN          NaN               NaN               NaN   \n",
       "176                    NaN          NaN               NaN               NaN   \n",
       "177                    NaN          NaN               NaN               NaN   \n",
       "178                    NaN          NaN               NaN               NaN   \n",
       "\n",
       "     workout_avg_hr  workout_max_hr  fat_burn_minutes  cardio_minutes  \\\n",
       "150             NaN             NaN               NaN             NaN   \n",
       "151             NaN             NaN               NaN             NaN   \n",
       "152             NaN             NaN               NaN             NaN   \n",
       "176             NaN             NaN               NaN             NaN   \n",
       "177             NaN             NaN               NaN             NaN   \n",
       "178             NaN             NaN               NaN             NaN   \n",
       "\n",
       "     peak_minutes  \n",
       "150           NaN  \n",
       "151           NaN  \n",
       "152           NaN  \n",
       "176           NaN  \n",
       "177           NaN  \n",
       "178           NaN  "
      ]
     },
     "execution_count": 18,
     "metadata": {},
     "output_type": "execute_result"
    }
   ],
   "source": [
    "# Show rows with missing values\n",
    "rows_with_missing_values = fitness_data[fitness_data.isnull().any(axis=1)]\n",
    "rows_with_missing_values"
   ]
  },
  {
   "cell_type": "markdown",
   "metadata": {},
   "source": [
    "Drop the rows with missing data, to clean up the dataset."
   ]
  },
  {
   "cell_type": "code",
   "execution_count": 19,
   "metadata": {},
   "outputs": [],
   "source": [
    "fitness_data = fitness_data.dropna(axis=0)"
   ]
  },
  {
   "cell_type": "markdown",
   "metadata": {},
   "source": [
    "To explore the dataset further, and look for any outliers, etc., print out some summary statistics."
   ]
  },
  {
   "cell_type": "code",
   "execution_count": 23,
   "metadata": {},
   "outputs": [
    {
     "data": {
      "text/html": [
       "<div>\n",
       "<style scoped>\n",
       "    .dataframe tbody tr th:only-of-type {\n",
       "        vertical-align: middle;\n",
       "    }\n",
       "\n",
       "    .dataframe tbody tr th {\n",
       "        vertical-align: top;\n",
       "    }\n",
       "\n",
       "    .dataframe thead th {\n",
       "        text-align: right;\n",
       "    }\n",
       "</style>\n",
       "<table border=\"1\" class=\"dataframe\">\n",
       "  <thead>\n",
       "    <tr style=\"text-align: right;\">\n",
       "      <th></th>\n",
       "      <th>weight</th>\n",
       "      <th>steps</th>\n",
       "      <th>resting_heart_rate</th>\n",
       "      <th>sleep_hours</th>\n",
       "      <th>active_minutes</th>\n",
       "      <th>total_calories_burned</th>\n",
       "      <th>workout_duration</th>\n",
       "      <th>workout_calories</th>\n",
       "      <th>workout_avg_hr</th>\n",
       "      <th>workout_max_hr</th>\n",
       "      <th>fat_burn_minutes</th>\n",
       "      <th>cardio_minutes</th>\n",
       "      <th>peak_minutes</th>\n",
       "    </tr>\n",
       "  </thead>\n",
       "  <tbody>\n",
       "    <tr>\n",
       "      <th>count</th>\n",
       "      <td>179.000000</td>\n",
       "      <td>179.000000</td>\n",
       "      <td>179.000000</td>\n",
       "      <td>179.000000</td>\n",
       "      <td>179.000000</td>\n",
       "      <td>179.000000</td>\n",
       "      <td>179.000000</td>\n",
       "      <td>179.000000</td>\n",
       "      <td>179.000000</td>\n",
       "      <td>179.000000</td>\n",
       "      <td>179.000000</td>\n",
       "      <td>179.000000</td>\n",
       "      <td>179.000000</td>\n",
       "    </tr>\n",
       "    <tr>\n",
       "      <th>mean</th>\n",
       "      <td>74.838842</td>\n",
       "      <td>8476.927374</td>\n",
       "      <td>64.926538</td>\n",
       "      <td>7.511456</td>\n",
       "      <td>85.128492</td>\n",
       "      <td>853.396648</td>\n",
       "      <td>38.227039</td>\n",
       "      <td>384.143224</td>\n",
       "      <td>129.950615</td>\n",
       "      <td>148.408547</td>\n",
       "      <td>42.284916</td>\n",
       "      <td>25.100559</td>\n",
       "      <td>16.636872</td>\n",
       "    </tr>\n",
       "    <tr>\n",
       "      <th>std</th>\n",
       "      <td>1.817232</td>\n",
       "      <td>2350.241475</td>\n",
       "      <td>4.765610</td>\n",
       "      <td>1.061339</td>\n",
       "      <td>22.242287</td>\n",
       "      <td>222.456798</td>\n",
       "      <td>19.778319</td>\n",
       "      <td>202.061761</td>\n",
       "      <td>37.688990</td>\n",
       "      <td>42.916258</td>\n",
       "      <td>11.133124</td>\n",
       "      <td>6.703257</td>\n",
       "      <td>4.442768</td>\n",
       "    </tr>\n",
       "    <tr>\n",
       "      <th>min</th>\n",
       "      <td>71.110000</td>\n",
       "      <td>3207.000000</td>\n",
       "      <td>50.380000</td>\n",
       "      <td>3.170000</td>\n",
       "      <td>30.000000</td>\n",
       "      <td>303.000000</td>\n",
       "      <td>0.000000</td>\n",
       "      <td>0.000000</td>\n",
       "      <td>0.000000</td>\n",
       "      <td>0.000000</td>\n",
       "      <td>15.000000</td>\n",
       "      <td>9.000000</td>\n",
       "      <td>6.000000</td>\n",
       "    </tr>\n",
       "    <tr>\n",
       "      <th>25%</th>\n",
       "      <td>73.130000</td>\n",
       "      <td>6823.000000</td>\n",
       "      <td>61.755000</td>\n",
       "      <td>6.995000</td>\n",
       "      <td>71.000000</td>\n",
       "      <td>711.500000</td>\n",
       "      <td>26.810000</td>\n",
       "      <td>262.480000</td>\n",
       "      <td>130.790000</td>\n",
       "      <td>148.850000</td>\n",
       "      <td>35.000000</td>\n",
       "      <td>21.000000</td>\n",
       "      <td>14.000000</td>\n",
       "    </tr>\n",
       "    <tr>\n",
       "      <th>50%</th>\n",
       "      <td>75.269587</td>\n",
       "      <td>8524.000000</td>\n",
       "      <td>64.710000</td>\n",
       "      <td>7.590000</td>\n",
       "      <td>84.000000</td>\n",
       "      <td>841.000000</td>\n",
       "      <td>34.340000</td>\n",
       "      <td>350.910000</td>\n",
       "      <td>140.420000</td>\n",
       "      <td>159.560000</td>\n",
       "      <td>42.000000</td>\n",
       "      <td>25.000000</td>\n",
       "      <td>16.000000</td>\n",
       "    </tr>\n",
       "    <tr>\n",
       "      <th>75%</th>\n",
       "      <td>76.530000</td>\n",
       "      <td>9704.500000</td>\n",
       "      <td>67.610000</td>\n",
       "      <td>8.055000</td>\n",
       "      <td>98.500000</td>\n",
       "      <td>988.000000</td>\n",
       "      <td>46.850000</td>\n",
       "      <td>493.370000</td>\n",
       "      <td>146.915000</td>\n",
       "      <td>168.080000</td>\n",
       "      <td>49.000000</td>\n",
       "      <td>29.000000</td>\n",
       "      <td>19.000000</td>\n",
       "    </tr>\n",
       "    <tr>\n",
       "      <th>max</th>\n",
       "      <td>78.170000</td>\n",
       "      <td>15724.000000</td>\n",
       "      <td>80.990000</td>\n",
       "      <td>9.780000</td>\n",
       "      <td>157.000000</td>\n",
       "      <td>1573.000000</td>\n",
       "      <td>94.290000</td>\n",
       "      <td>1072.200000</td>\n",
       "      <td>160.240000</td>\n",
       "      <td>187.550000</td>\n",
       "      <td>78.000000</td>\n",
       "      <td>47.000000</td>\n",
       "      <td>31.000000</td>\n",
       "    </tr>\n",
       "  </tbody>\n",
       "</table>\n",
       "</div>"
      ],
      "text/plain": [
       "           weight         steps  resting_heart_rate  sleep_hours  \\\n",
       "count  179.000000    179.000000          179.000000   179.000000   \n",
       "mean    74.838842   8476.927374           64.926538     7.511456   \n",
       "std      1.817232   2350.241475            4.765610     1.061339   \n",
       "min     71.110000   3207.000000           50.380000     3.170000   \n",
       "25%     73.130000   6823.000000           61.755000     6.995000   \n",
       "50%     75.269587   8524.000000           64.710000     7.590000   \n",
       "75%     76.530000   9704.500000           67.610000     8.055000   \n",
       "max     78.170000  15724.000000           80.990000     9.780000   \n",
       "\n",
       "       active_minutes  total_calories_burned  workout_duration  \\\n",
       "count      179.000000             179.000000        179.000000   \n",
       "mean        85.128492             853.396648         38.227039   \n",
       "std         22.242287             222.456798         19.778319   \n",
       "min         30.000000             303.000000          0.000000   \n",
       "25%         71.000000             711.500000         26.810000   \n",
       "50%         84.000000             841.000000         34.340000   \n",
       "75%         98.500000             988.000000         46.850000   \n",
       "max        157.000000            1573.000000         94.290000   \n",
       "\n",
       "       workout_calories  workout_avg_hr  workout_max_hr  fat_burn_minutes  \\\n",
       "count        179.000000      179.000000      179.000000        179.000000   \n",
       "mean         384.143224      129.950615      148.408547         42.284916   \n",
       "std          202.061761       37.688990       42.916258         11.133124   \n",
       "min            0.000000        0.000000        0.000000         15.000000   \n",
       "25%          262.480000      130.790000      148.850000         35.000000   \n",
       "50%          350.910000      140.420000      159.560000         42.000000   \n",
       "75%          493.370000      146.915000      168.080000         49.000000   \n",
       "max         1072.200000      160.240000      187.550000         78.000000   \n",
       "\n",
       "       cardio_minutes  peak_minutes  \n",
       "count      179.000000    179.000000  \n",
       "mean        25.100559     16.636872  \n",
       "std          6.703257      4.442768  \n",
       "min          9.000000      6.000000  \n",
       "25%         21.000000     14.000000  \n",
       "50%         25.000000     16.000000  \n",
       "75%         29.000000     19.000000  \n",
       "max         47.000000     31.000000  "
      ]
     },
     "execution_count": 23,
     "metadata": {},
     "output_type": "execute_result"
    }
   ],
   "source": [
    "# Describe dataset\n",
    "summary_statistics = fitness_data.describe()\n",
    "summary_statistics"
   ]
  },
  {
   "cell_type": "markdown",
   "metadata": {},
   "source": [
    "Check data types of each coloumn."
   ]
  },
  {
   "cell_type": "code",
   "execution_count": 24,
   "metadata": {},
   "outputs": [
    {
     "data": {
      "text/plain": [
       "date                      object\n",
       "weight                   float64\n",
       "steps                    float64\n",
       "resting_heart_rate       float64\n",
       "sleep_hours              float64\n",
       "active_minutes           float64\n",
       "total_calories_burned    float64\n",
       "workout_type              object\n",
       "workout_duration         float64\n",
       "workout_calories         float64\n",
       "workout_avg_hr           float64\n",
       "workout_max_hr           float64\n",
       "fat_burn_minutes         float64\n",
       "cardio_minutes           float64\n",
       "peak_minutes             float64\n",
       "dtype: object"
      ]
     },
     "execution_count": 24,
     "metadata": {},
     "output_type": "execute_result"
    }
   ],
   "source": [
    "# Print data types\n",
    "data_types = fitness_data.dtypes\n",
    "data_types"
   ]
  },
  {
   "cell_type": "markdown",
   "metadata": {},
   "source": [
    "The date coloumn as an object will prevent datetime manipulations, so convert this coloumn into a datetime type."
   ]
  },
  {
   "cell_type": "code",
   "execution_count": 28,
   "metadata": {},
   "outputs": [
    {
     "data": {
      "text/plain": [
       "date                     datetime64[ns]\n",
       "weight                          float64\n",
       "steps                           float64\n",
       "resting_heart_rate              float64\n",
       "sleep_hours                     float64\n",
       "active_minutes                  float64\n",
       "total_calories_burned           float64\n",
       "workout_type                     object\n",
       "workout_duration                float64\n",
       "workout_calories                float64\n",
       "workout_avg_hr                  float64\n",
       "workout_max_hr                  float64\n",
       "fat_burn_minutes                float64\n",
       "cardio_minutes                  float64\n",
       "peak_minutes                    float64\n",
       "dtype: object"
      ]
     },
     "execution_count": 28,
     "metadata": {},
     "output_type": "execute_result"
    }
   ],
   "source": [
    "# Convert date coloumn to datetime type\n",
    "fitness_data['date'] = pd.to_datetime(fitness_data['date'], format='%m/%d/%y')\n",
    "fitness_data.dtypes"
   ]
  },
  {
   "cell_type": "markdown",
   "metadata": {},
   "source": [
    "#### Feature Engineering"
   ]
  },
  {
   "cell_type": "markdown",
   "metadata": {},
   "source": [
    "Update coloumn names, so that they are more descriptive. "
   ]
  },
  {
   "cell_type": "code",
   "execution_count": 29,
   "metadata": {},
   "outputs": [
    {
     "data": {
      "text/html": [
       "<div>\n",
       "<style scoped>\n",
       "    .dataframe tbody tr th:only-of-type {\n",
       "        vertical-align: middle;\n",
       "    }\n",
       "\n",
       "    .dataframe tbody tr th {\n",
       "        vertical-align: top;\n",
       "    }\n",
       "\n",
       "    .dataframe thead th {\n",
       "        text-align: right;\n",
       "    }\n",
       "</style>\n",
       "<table border=\"1\" class=\"dataframe\">\n",
       "  <thead>\n",
       "    <tr style=\"text-align: right;\">\n",
       "      <th></th>\n",
       "      <th>date</th>\n",
       "      <th>body_weight_kg</th>\n",
       "      <th>steps</th>\n",
       "      <th>resting_heart_rate</th>\n",
       "      <th>sleep_hours</th>\n",
       "      <th>active_minutes</th>\n",
       "      <th>total_calories_burned</th>\n",
       "      <th>workout_type</th>\n",
       "      <th>workout_duration_minutes</th>\n",
       "      <th>workout_calories</th>\n",
       "      <th>workout_avg_hr</th>\n",
       "      <th>workout_max_hr</th>\n",
       "      <th>fat_burn_minutes</th>\n",
       "      <th>cardio_minutes</th>\n",
       "      <th>peak_minutes</th>\n",
       "    </tr>\n",
       "  </thead>\n",
       "  <tbody>\n",
       "    <tr>\n",
       "      <th>0</th>\n",
       "      <td>2024-07-01</td>\n",
       "      <td>75.248357</td>\n",
       "      <td>6829.0</td>\n",
       "      <td>63.68</td>\n",
       "      <td>7.03</td>\n",
       "      <td>66.0</td>\n",
       "      <td>664.0</td>\n",
       "      <td>Strength Training</td>\n",
       "      <td>68.28</td>\n",
       "      <td>641.120000</td>\n",
       "      <td>143.67</td>\n",
       "      <td>171.17</td>\n",
       "      <td>33.0</td>\n",
       "      <td>19.0</td>\n",
       "      <td>13.0</td>\n",
       "    </tr>\n",
       "    <tr>\n",
       "      <th>1</th>\n",
       "      <td>2024-07-02</td>\n",
       "      <td>74.914564</td>\n",
       "      <td>7741.0</td>\n",
       "      <td>58.63</td>\n",
       "      <td>7.85</td>\n",
       "      <td>66.0</td>\n",
       "      <td>660.0</td>\n",
       "      <td>Rest</td>\n",
       "      <td>0.00</td>\n",
       "      <td>0.000000</td>\n",
       "      <td>0.00</td>\n",
       "      <td>0.00</td>\n",
       "      <td>33.0</td>\n",
       "      <td>19.0</td>\n",
       "      <td>13.0</td>\n",
       "    </tr>\n",
       "    <tr>\n",
       "      <th>2</th>\n",
       "      <td>2024-07-03</td>\n",
       "      <td>75.140000</td>\n",
       "      <td>8227.0</td>\n",
       "      <td>58.47</td>\n",
       "      <td>7.53</td>\n",
       "      <td>87.0</td>\n",
       "      <td>873.0</td>\n",
       "      <td>Strength Training</td>\n",
       "      <td>34.34</td>\n",
       "      <td>366.564833</td>\n",
       "      <td>138.63</td>\n",
       "      <td>163.86</td>\n",
       "      <td>43.0</td>\n",
       "      <td>26.0</td>\n",
       "      <td>17.0</td>\n",
       "    </tr>\n",
       "    <tr>\n",
       "      <th>3</th>\n",
       "      <td>2024-07-04</td>\n",
       "      <td>75.200000</td>\n",
       "      <td>13262.0</td>\n",
       "      <td>72.51</td>\n",
       "      <td>4.63</td>\n",
       "      <td>111.0</td>\n",
       "      <td>1113.0</td>\n",
       "      <td>Running</td>\n",
       "      <td>62.74</td>\n",
       "      <td>662.040000</td>\n",
       "      <td>152.04</td>\n",
       "      <td>168.87</td>\n",
       "      <td>55.0</td>\n",
       "      <td>33.0</td>\n",
       "      <td>22.0</td>\n",
       "    </tr>\n",
       "    <tr>\n",
       "      <th>4</th>\n",
       "      <td>2024-07-05</td>\n",
       "      <td>75.270000</td>\n",
       "      <td>9377.0</td>\n",
       "      <td>73.32</td>\n",
       "      <td>5.38</td>\n",
       "      <td>79.0</td>\n",
       "      <td>790.0</td>\n",
       "      <td>Strength Training</td>\n",
       "      <td>77.88</td>\n",
       "      <td>677.010000</td>\n",
       "      <td>144.06</td>\n",
       "      <td>167.28</td>\n",
       "      <td>39.0</td>\n",
       "      <td>23.0</td>\n",
       "      <td>15.0</td>\n",
       "    </tr>\n",
       "  </tbody>\n",
       "</table>\n",
       "</div>"
      ],
      "text/plain": [
       "        date  body_weight_kg    steps  resting_heart_rate  sleep_hours  \\\n",
       "0 2024-07-01       75.248357   6829.0               63.68         7.03   \n",
       "1 2024-07-02       74.914564   7741.0               58.63         7.85   \n",
       "2 2024-07-03       75.140000   8227.0               58.47         7.53   \n",
       "3 2024-07-04       75.200000  13262.0               72.51         4.63   \n",
       "4 2024-07-05       75.270000   9377.0               73.32         5.38   \n",
       "\n",
       "   active_minutes  total_calories_burned       workout_type  \\\n",
       "0            66.0                  664.0  Strength Training   \n",
       "1            66.0                  660.0               Rest   \n",
       "2            87.0                  873.0  Strength Training   \n",
       "3           111.0                 1113.0            Running   \n",
       "4            79.0                  790.0  Strength Training   \n",
       "\n",
       "   workout_duration_minutes  workout_calories  workout_avg_hr  workout_max_hr  \\\n",
       "0                     68.28        641.120000          143.67          171.17   \n",
       "1                      0.00          0.000000            0.00            0.00   \n",
       "2                     34.34        366.564833          138.63          163.86   \n",
       "3                     62.74        662.040000          152.04          168.87   \n",
       "4                     77.88        677.010000          144.06          167.28   \n",
       "\n",
       "   fat_burn_minutes  cardio_minutes  peak_minutes  \n",
       "0              33.0            19.0          13.0  \n",
       "1              33.0            19.0          13.0  \n",
       "2              43.0            26.0          17.0  \n",
       "3              55.0            33.0          22.0  \n",
       "4              39.0            23.0          15.0  "
      ]
     },
     "execution_count": 29,
     "metadata": {},
     "output_type": "execute_result"
    }
   ],
   "source": [
    "# Rename the 'weight' and 'workout_duration' coloumns to more descriptive names\n",
    "fitness_data.rename(columns={'weight': 'body_weight_kg', 'workout_duration': 'workout_duration_minutes'}, inplace=True)\n",
    "fitness_data.head()"
   ]
  },
  {
   "cell_type": "markdown",
   "metadata": {},
   "source": [
    "Add a new coloumn that converts body weight into pounds."
   ]
  },
  {
   "cell_type": "code",
   "execution_count": 30,
   "metadata": {},
   "outputs": [
    {
     "data": {
      "text/html": [
       "<div>\n",
       "<style scoped>\n",
       "    .dataframe tbody tr th:only-of-type {\n",
       "        vertical-align: middle;\n",
       "    }\n",
       "\n",
       "    .dataframe tbody tr th {\n",
       "        vertical-align: top;\n",
       "    }\n",
       "\n",
       "    .dataframe thead th {\n",
       "        text-align: right;\n",
       "    }\n",
       "</style>\n",
       "<table border=\"1\" class=\"dataframe\">\n",
       "  <thead>\n",
       "    <tr style=\"text-align: right;\">\n",
       "      <th></th>\n",
       "      <th>date</th>\n",
       "      <th>body_weight_kg</th>\n",
       "      <th>steps</th>\n",
       "      <th>resting_heart_rate</th>\n",
       "      <th>sleep_hours</th>\n",
       "      <th>active_minutes</th>\n",
       "      <th>total_calories_burned</th>\n",
       "      <th>workout_type</th>\n",
       "      <th>workout_duration_minutes</th>\n",
       "      <th>workout_calories</th>\n",
       "      <th>workout_avg_hr</th>\n",
       "      <th>workout_max_hr</th>\n",
       "      <th>fat_burn_minutes</th>\n",
       "      <th>cardio_minutes</th>\n",
       "      <th>peak_minutes</th>\n",
       "      <th>body_weight_lbs</th>\n",
       "    </tr>\n",
       "  </thead>\n",
       "  <tbody>\n",
       "    <tr>\n",
       "      <th>0</th>\n",
       "      <td>2024-07-01</td>\n",
       "      <td>75.248357</td>\n",
       "      <td>6829.0</td>\n",
       "      <td>63.68</td>\n",
       "      <td>7.03</td>\n",
       "      <td>66.0</td>\n",
       "      <td>664.0</td>\n",
       "      <td>Strength Training</td>\n",
       "      <td>68.28</td>\n",
       "      <td>641.120000</td>\n",
       "      <td>143.67</td>\n",
       "      <td>171.17</td>\n",
       "      <td>33.0</td>\n",
       "      <td>19.0</td>\n",
       "      <td>13.0</td>\n",
       "      <td>165.894033</td>\n",
       "    </tr>\n",
       "    <tr>\n",
       "      <th>1</th>\n",
       "      <td>2024-07-02</td>\n",
       "      <td>74.914564</td>\n",
       "      <td>7741.0</td>\n",
       "      <td>58.63</td>\n",
       "      <td>7.85</td>\n",
       "      <td>66.0</td>\n",
       "      <td>660.0</td>\n",
       "      <td>Rest</td>\n",
       "      <td>0.00</td>\n",
       "      <td>0.000000</td>\n",
       "      <td>0.00</td>\n",
       "      <td>0.00</td>\n",
       "      <td>33.0</td>\n",
       "      <td>19.0</td>\n",
       "      <td>13.0</td>\n",
       "      <td>165.158145</td>\n",
       "    </tr>\n",
       "    <tr>\n",
       "      <th>2</th>\n",
       "      <td>2024-07-03</td>\n",
       "      <td>75.140000</td>\n",
       "      <td>8227.0</td>\n",
       "      <td>58.47</td>\n",
       "      <td>7.53</td>\n",
       "      <td>87.0</td>\n",
       "      <td>873.0</td>\n",
       "      <td>Strength Training</td>\n",
       "      <td>34.34</td>\n",
       "      <td>366.564833</td>\n",
       "      <td>138.63</td>\n",
       "      <td>163.86</td>\n",
       "      <td>43.0</td>\n",
       "      <td>26.0</td>\n",
       "      <td>17.0</td>\n",
       "      <td>165.655147</td>\n",
       "    </tr>\n",
       "    <tr>\n",
       "      <th>3</th>\n",
       "      <td>2024-07-04</td>\n",
       "      <td>75.200000</td>\n",
       "      <td>13262.0</td>\n",
       "      <td>72.51</td>\n",
       "      <td>4.63</td>\n",
       "      <td>111.0</td>\n",
       "      <td>1113.0</td>\n",
       "      <td>Running</td>\n",
       "      <td>62.74</td>\n",
       "      <td>662.040000</td>\n",
       "      <td>152.04</td>\n",
       "      <td>168.87</td>\n",
       "      <td>55.0</td>\n",
       "      <td>33.0</td>\n",
       "      <td>22.0</td>\n",
       "      <td>165.787424</td>\n",
       "    </tr>\n",
       "    <tr>\n",
       "      <th>4</th>\n",
       "      <td>2024-07-05</td>\n",
       "      <td>75.270000</td>\n",
       "      <td>9377.0</td>\n",
       "      <td>73.32</td>\n",
       "      <td>5.38</td>\n",
       "      <td>79.0</td>\n",
       "      <td>790.0</td>\n",
       "      <td>Strength Training</td>\n",
       "      <td>77.88</td>\n",
       "      <td>677.010000</td>\n",
       "      <td>144.06</td>\n",
       "      <td>167.28</td>\n",
       "      <td>39.0</td>\n",
       "      <td>23.0</td>\n",
       "      <td>15.0</td>\n",
       "      <td>165.941747</td>\n",
       "    </tr>\n",
       "  </tbody>\n",
       "</table>\n",
       "</div>"
      ],
      "text/plain": [
       "        date  body_weight_kg    steps  resting_heart_rate  sleep_hours  \\\n",
       "0 2024-07-01       75.248357   6829.0               63.68         7.03   \n",
       "1 2024-07-02       74.914564   7741.0               58.63         7.85   \n",
       "2 2024-07-03       75.140000   8227.0               58.47         7.53   \n",
       "3 2024-07-04       75.200000  13262.0               72.51         4.63   \n",
       "4 2024-07-05       75.270000   9377.0               73.32         5.38   \n",
       "\n",
       "   active_minutes  total_calories_burned       workout_type  \\\n",
       "0            66.0                  664.0  Strength Training   \n",
       "1            66.0                  660.0               Rest   \n",
       "2            87.0                  873.0  Strength Training   \n",
       "3           111.0                 1113.0            Running   \n",
       "4            79.0                  790.0  Strength Training   \n",
       "\n",
       "   workout_duration_minutes  workout_calories  workout_avg_hr  workout_max_hr  \\\n",
       "0                     68.28        641.120000          143.67          171.17   \n",
       "1                      0.00          0.000000            0.00            0.00   \n",
       "2                     34.34        366.564833          138.63          163.86   \n",
       "3                     62.74        662.040000          152.04          168.87   \n",
       "4                     77.88        677.010000          144.06          167.28   \n",
       "\n",
       "   fat_burn_minutes  cardio_minutes  peak_minutes  body_weight_lbs  \n",
       "0              33.0            19.0          13.0       165.894033  \n",
       "1              33.0            19.0          13.0       165.158145  \n",
       "2              43.0            26.0          17.0       165.655147  \n",
       "3              55.0            33.0          22.0       165.787424  \n",
       "4              39.0            23.0          15.0       165.941747  "
      ]
     },
     "execution_count": 30,
     "metadata": {},
     "output_type": "execute_result"
    }
   ],
   "source": [
    "fitness_data['body_weight_lbs'] = fitness_data['body_weight_kg'] * 2.20462\n",
    "fitness_data.head()"
   ]
  },
  {
   "cell_type": "markdown",
   "metadata": {},
   "source": [
    "Add a new coloumn to indicate the day of the week, and add another coloumn to indicate if it is the weekend or not."
   ]
  },
  {
   "cell_type": "code",
   "execution_count": 33,
   "metadata": {},
   "outputs": [
    {
     "data": {
      "text/html": [
       "<div>\n",
       "<style scoped>\n",
       "    .dataframe tbody tr th:only-of-type {\n",
       "        vertical-align: middle;\n",
       "    }\n",
       "\n",
       "    .dataframe tbody tr th {\n",
       "        vertical-align: top;\n",
       "    }\n",
       "\n",
       "    .dataframe thead th {\n",
       "        text-align: right;\n",
       "    }\n",
       "</style>\n",
       "<table border=\"1\" class=\"dataframe\">\n",
       "  <thead>\n",
       "    <tr style=\"text-align: right;\">\n",
       "      <th></th>\n",
       "      <th>date</th>\n",
       "      <th>body_weight_kg</th>\n",
       "      <th>steps</th>\n",
       "      <th>resting_heart_rate</th>\n",
       "      <th>sleep_hours</th>\n",
       "      <th>active_minutes</th>\n",
       "      <th>total_calories_burned</th>\n",
       "      <th>workout_type</th>\n",
       "      <th>workout_duration_minutes</th>\n",
       "      <th>workout_calories</th>\n",
       "      <th>workout_avg_hr</th>\n",
       "      <th>workout_max_hr</th>\n",
       "      <th>fat_burn_minutes</th>\n",
       "      <th>cardio_minutes</th>\n",
       "      <th>peak_minutes</th>\n",
       "      <th>body_weight_lbs</th>\n",
       "      <th>day_of_week</th>\n",
       "      <th>is_weekend</th>\n",
       "    </tr>\n",
       "  </thead>\n",
       "  <tbody>\n",
       "    <tr>\n",
       "      <th>180</th>\n",
       "      <td>2024-12-28</td>\n",
       "      <td>77.69</td>\n",
       "      <td>5883.0</td>\n",
       "      <td>62.33</td>\n",
       "      <td>9.78</td>\n",
       "      <td>71.0</td>\n",
       "      <td>712.0</td>\n",
       "      <td>Strength Training</td>\n",
       "      <td>94.29</td>\n",
       "      <td>1072.20</td>\n",
       "      <td>131.24</td>\n",
       "      <td>154.21</td>\n",
       "      <td>35.0</td>\n",
       "      <td>21.0</td>\n",
       "      <td>14.0</td>\n",
       "      <td>171.276928</td>\n",
       "      <td>Saturday</td>\n",
       "      <td>True</td>\n",
       "    </tr>\n",
       "    <tr>\n",
       "      <th>181</th>\n",
       "      <td>2024-12-29</td>\n",
       "      <td>77.61</td>\n",
       "      <td>8639.0</td>\n",
       "      <td>66.12</td>\n",
       "      <td>6.55</td>\n",
       "      <td>87.0</td>\n",
       "      <td>874.0</td>\n",
       "      <td>Running</td>\n",
       "      <td>41.47</td>\n",
       "      <td>419.24</td>\n",
       "      <td>139.88</td>\n",
       "      <td>157.09</td>\n",
       "      <td>43.0</td>\n",
       "      <td>26.0</td>\n",
       "      <td>17.0</td>\n",
       "      <td>171.100558</td>\n",
       "      <td>Sunday</td>\n",
       "      <td>True</td>\n",
       "    </tr>\n",
       "    <tr>\n",
       "      <th>182</th>\n",
       "      <td>2024-12-30</td>\n",
       "      <td>77.49</td>\n",
       "      <td>8587.0</td>\n",
       "      <td>61.23</td>\n",
       "      <td>8.02</td>\n",
       "      <td>87.0</td>\n",
       "      <td>874.0</td>\n",
       "      <td>Rest</td>\n",
       "      <td>0.00</td>\n",
       "      <td>0.00</td>\n",
       "      <td>0.00</td>\n",
       "      <td>0.00</td>\n",
       "      <td>43.0</td>\n",
       "      <td>26.0</td>\n",
       "      <td>17.0</td>\n",
       "      <td>170.836004</td>\n",
       "      <td>Monday</td>\n",
       "      <td>False</td>\n",
       "    </tr>\n",
       "    <tr>\n",
       "      <th>183</th>\n",
       "      <td>2024-12-31</td>\n",
       "      <td>77.55</td>\n",
       "      <td>10408.0</td>\n",
       "      <td>59.33</td>\n",
       "      <td>4.57</td>\n",
       "      <td>90.0</td>\n",
       "      <td>900.0</td>\n",
       "      <td>HIIT</td>\n",
       "      <td>26.73</td>\n",
       "      <td>267.90</td>\n",
       "      <td>133.59</td>\n",
       "      <td>146.81</td>\n",
       "      <td>45.0</td>\n",
       "      <td>27.0</td>\n",
       "      <td>18.0</td>\n",
       "      <td>170.968281</td>\n",
       "      <td>Tuesday</td>\n",
       "      <td>False</td>\n",
       "    </tr>\n",
       "    <tr>\n",
       "      <th>184</th>\n",
       "      <td>2025-01-01</td>\n",
       "      <td>78.17</td>\n",
       "      <td>3257.0</td>\n",
       "      <td>63.24</td>\n",
       "      <td>3.17</td>\n",
       "      <td>78.0</td>\n",
       "      <td>784.0</td>\n",
       "      <td>Rest</td>\n",
       "      <td>0.00</td>\n",
       "      <td>0.00</td>\n",
       "      <td>0.00</td>\n",
       "      <td>0.00</td>\n",
       "      <td>39.0</td>\n",
       "      <td>23.0</td>\n",
       "      <td>15.0</td>\n",
       "      <td>172.335145</td>\n",
       "      <td>Wednesday</td>\n",
       "      <td>False</td>\n",
       "    </tr>\n",
       "  </tbody>\n",
       "</table>\n",
       "</div>"
      ],
      "text/plain": [
       "          date  body_weight_kg    steps  resting_heart_rate  sleep_hours  \\\n",
       "180 2024-12-28           77.69   5883.0               62.33         9.78   \n",
       "181 2024-12-29           77.61   8639.0               66.12         6.55   \n",
       "182 2024-12-30           77.49   8587.0               61.23         8.02   \n",
       "183 2024-12-31           77.55  10408.0               59.33         4.57   \n",
       "184 2025-01-01           78.17   3257.0               63.24         3.17   \n",
       "\n",
       "     active_minutes  total_calories_burned       workout_type  \\\n",
       "180            71.0                  712.0  Strength Training   \n",
       "181            87.0                  874.0            Running   \n",
       "182            87.0                  874.0               Rest   \n",
       "183            90.0                  900.0               HIIT   \n",
       "184            78.0                  784.0               Rest   \n",
       "\n",
       "     workout_duration_minutes  workout_calories  workout_avg_hr  \\\n",
       "180                     94.29           1072.20          131.24   \n",
       "181                     41.47            419.24          139.88   \n",
       "182                      0.00              0.00            0.00   \n",
       "183                     26.73            267.90          133.59   \n",
       "184                      0.00              0.00            0.00   \n",
       "\n",
       "     workout_max_hr  fat_burn_minutes  cardio_minutes  peak_minutes  \\\n",
       "180          154.21              35.0            21.0          14.0   \n",
       "181          157.09              43.0            26.0          17.0   \n",
       "182            0.00              43.0            26.0          17.0   \n",
       "183          146.81              45.0            27.0          18.0   \n",
       "184            0.00              39.0            23.0          15.0   \n",
       "\n",
       "     body_weight_lbs day_of_week  is_weekend  \n",
       "180       171.276928    Saturday        True  \n",
       "181       171.100558      Sunday        True  \n",
       "182       170.836004      Monday       False  \n",
       "183       170.968281     Tuesday       False  \n",
       "184       172.335145   Wednesday       False  "
      ]
     },
     "execution_count": 33,
     "metadata": {},
     "output_type": "execute_result"
    }
   ],
   "source": [
    "# Add a new coloumn to indicate day of the week\n",
    "fitness_data['day_of_week'] = fitness_data['date'].dt.day_name()\n",
    "\n",
    "# Add a new coloumn to indicate weekend\n",
    "fitness_data['is_weekend'] = fitness_data['day_of_week'].isin(['Saturday', 'Sunday'])\n",
    "\n",
    "fitness_data.tail()"
   ]
  },
  {
   "cell_type": "markdown",
   "metadata": {},
   "source": [
    "Add a new coloumn (sleep_debt) that calculates the difference between sleep hours compared to the target (7.5 hours) and add an additional coloumn to calculate the cumulative value of this."
   ]
  },
  {
   "cell_type": "code",
   "execution_count": 35,
   "metadata": {},
   "outputs": [
    {
     "data": {
      "text/html": [
       "<div>\n",
       "<style scoped>\n",
       "    .dataframe tbody tr th:only-of-type {\n",
       "        vertical-align: middle;\n",
       "    }\n",
       "\n",
       "    .dataframe tbody tr th {\n",
       "        vertical-align: top;\n",
       "    }\n",
       "\n",
       "    .dataframe thead th {\n",
       "        text-align: right;\n",
       "    }\n",
       "</style>\n",
       "<table border=\"1\" class=\"dataframe\">\n",
       "  <thead>\n",
       "    <tr style=\"text-align: right;\">\n",
       "      <th></th>\n",
       "      <th>date</th>\n",
       "      <th>body_weight_kg</th>\n",
       "      <th>steps</th>\n",
       "      <th>resting_heart_rate</th>\n",
       "      <th>sleep_hours</th>\n",
       "      <th>active_minutes</th>\n",
       "      <th>total_calories_burned</th>\n",
       "      <th>workout_type</th>\n",
       "      <th>workout_duration_minutes</th>\n",
       "      <th>workout_calories</th>\n",
       "      <th>workout_avg_hr</th>\n",
       "      <th>workout_max_hr</th>\n",
       "      <th>fat_burn_minutes</th>\n",
       "      <th>cardio_minutes</th>\n",
       "      <th>peak_minutes</th>\n",
       "      <th>body_weight_lbs</th>\n",
       "      <th>day_of_week</th>\n",
       "      <th>is_weekend</th>\n",
       "      <th>sleep_debt</th>\n",
       "      <th>cumulative_sleep_debt</th>\n",
       "    </tr>\n",
       "  </thead>\n",
       "  <tbody>\n",
       "    <tr>\n",
       "      <th>0</th>\n",
       "      <td>2024-07-01</td>\n",
       "      <td>75.248357</td>\n",
       "      <td>6829.0</td>\n",
       "      <td>63.68</td>\n",
       "      <td>7.03</td>\n",
       "      <td>66.0</td>\n",
       "      <td>664.0</td>\n",
       "      <td>Strength Training</td>\n",
       "      <td>68.28</td>\n",
       "      <td>641.120000</td>\n",
       "      <td>143.67</td>\n",
       "      <td>171.17</td>\n",
       "      <td>33.0</td>\n",
       "      <td>19.0</td>\n",
       "      <td>13.0</td>\n",
       "      <td>165.894033</td>\n",
       "      <td>Monday</td>\n",
       "      <td>False</td>\n",
       "      <td>-0.47</td>\n",
       "      <td>-0.47</td>\n",
       "    </tr>\n",
       "    <tr>\n",
       "      <th>1</th>\n",
       "      <td>2024-07-02</td>\n",
       "      <td>74.914564</td>\n",
       "      <td>7741.0</td>\n",
       "      <td>58.63</td>\n",
       "      <td>7.85</td>\n",
       "      <td>66.0</td>\n",
       "      <td>660.0</td>\n",
       "      <td>Rest</td>\n",
       "      <td>0.00</td>\n",
       "      <td>0.000000</td>\n",
       "      <td>0.00</td>\n",
       "      <td>0.00</td>\n",
       "      <td>33.0</td>\n",
       "      <td>19.0</td>\n",
       "      <td>13.0</td>\n",
       "      <td>165.158145</td>\n",
       "      <td>Tuesday</td>\n",
       "      <td>False</td>\n",
       "      <td>0.35</td>\n",
       "      <td>-0.12</td>\n",
       "    </tr>\n",
       "    <tr>\n",
       "      <th>2</th>\n",
       "      <td>2024-07-03</td>\n",
       "      <td>75.140000</td>\n",
       "      <td>8227.0</td>\n",
       "      <td>58.47</td>\n",
       "      <td>7.53</td>\n",
       "      <td>87.0</td>\n",
       "      <td>873.0</td>\n",
       "      <td>Strength Training</td>\n",
       "      <td>34.34</td>\n",
       "      <td>366.564833</td>\n",
       "      <td>138.63</td>\n",
       "      <td>163.86</td>\n",
       "      <td>43.0</td>\n",
       "      <td>26.0</td>\n",
       "      <td>17.0</td>\n",
       "      <td>165.655147</td>\n",
       "      <td>Wednesday</td>\n",
       "      <td>False</td>\n",
       "      <td>0.03</td>\n",
       "      <td>-0.09</td>\n",
       "    </tr>\n",
       "    <tr>\n",
       "      <th>3</th>\n",
       "      <td>2024-07-04</td>\n",
       "      <td>75.200000</td>\n",
       "      <td>13262.0</td>\n",
       "      <td>72.51</td>\n",
       "      <td>4.63</td>\n",
       "      <td>111.0</td>\n",
       "      <td>1113.0</td>\n",
       "      <td>Running</td>\n",
       "      <td>62.74</td>\n",
       "      <td>662.040000</td>\n",
       "      <td>152.04</td>\n",
       "      <td>168.87</td>\n",
       "      <td>55.0</td>\n",
       "      <td>33.0</td>\n",
       "      <td>22.0</td>\n",
       "      <td>165.787424</td>\n",
       "      <td>Thursday</td>\n",
       "      <td>False</td>\n",
       "      <td>-2.87</td>\n",
       "      <td>-2.96</td>\n",
       "    </tr>\n",
       "    <tr>\n",
       "      <th>4</th>\n",
       "      <td>2024-07-05</td>\n",
       "      <td>75.270000</td>\n",
       "      <td>9377.0</td>\n",
       "      <td>73.32</td>\n",
       "      <td>5.38</td>\n",
       "      <td>79.0</td>\n",
       "      <td>790.0</td>\n",
       "      <td>Strength Training</td>\n",
       "      <td>77.88</td>\n",
       "      <td>677.010000</td>\n",
       "      <td>144.06</td>\n",
       "      <td>167.28</td>\n",
       "      <td>39.0</td>\n",
       "      <td>23.0</td>\n",
       "      <td>15.0</td>\n",
       "      <td>165.941747</td>\n",
       "      <td>Friday</td>\n",
       "      <td>False</td>\n",
       "      <td>-2.12</td>\n",
       "      <td>-5.08</td>\n",
       "    </tr>\n",
       "  </tbody>\n",
       "</table>\n",
       "</div>"
      ],
      "text/plain": [
       "        date  body_weight_kg    steps  resting_heart_rate  sleep_hours  \\\n",
       "0 2024-07-01       75.248357   6829.0               63.68         7.03   \n",
       "1 2024-07-02       74.914564   7741.0               58.63         7.85   \n",
       "2 2024-07-03       75.140000   8227.0               58.47         7.53   \n",
       "3 2024-07-04       75.200000  13262.0               72.51         4.63   \n",
       "4 2024-07-05       75.270000   9377.0               73.32         5.38   \n",
       "\n",
       "   active_minutes  total_calories_burned       workout_type  \\\n",
       "0            66.0                  664.0  Strength Training   \n",
       "1            66.0                  660.0               Rest   \n",
       "2            87.0                  873.0  Strength Training   \n",
       "3           111.0                 1113.0            Running   \n",
       "4            79.0                  790.0  Strength Training   \n",
       "\n",
       "   workout_duration_minutes  workout_calories  workout_avg_hr  workout_max_hr  \\\n",
       "0                     68.28        641.120000          143.67          171.17   \n",
       "1                      0.00          0.000000            0.00            0.00   \n",
       "2                     34.34        366.564833          138.63          163.86   \n",
       "3                     62.74        662.040000          152.04          168.87   \n",
       "4                     77.88        677.010000          144.06          167.28   \n",
       "\n",
       "   fat_burn_minutes  cardio_minutes  peak_minutes  body_weight_lbs  \\\n",
       "0              33.0            19.0          13.0       165.894033   \n",
       "1              33.0            19.0          13.0       165.158145   \n",
       "2              43.0            26.0          17.0       165.655147   \n",
       "3              55.0            33.0          22.0       165.787424   \n",
       "4              39.0            23.0          15.0       165.941747   \n",
       "\n",
       "  day_of_week  is_weekend  sleep_debt  cumulative_sleep_debt  \n",
       "0      Monday       False       -0.47                  -0.47  \n",
       "1     Tuesday       False        0.35                  -0.12  \n",
       "2   Wednesday       False        0.03                  -0.09  \n",
       "3    Thursday       False       -2.87                  -2.96  \n",
       "4      Friday       False       -2.12                  -5.08  "
      ]
     },
     "execution_count": 35,
     "metadata": {},
     "output_type": "execute_result"
    }
   ],
   "source": [
    "# Add a coloumn that calculates difference between sleep hours and target\n",
    "fitness_data['sleep_debt'] = fitness_data['sleep_hours'] - 7.5\n",
    "\n",
    "# Add a cumulative sleep debt coloumn\n",
    "fitness_data['cumulative_sleep_debt'] = fitness_data['sleep_debt'].cumsum()\n",
    "\n",
    "fitness_data.head()"
   ]
  },
  {
   "cell_type": "markdown",
   "metadata": {},
   "source": [
    "#### Data Visualization"
   ]
  },
  {
   "cell_type": "markdown",
   "metadata": {},
   "source": [
    "Create a histogram of the number of steps."
   ]
  },
  {
   "cell_type": "code",
   "execution_count": 38,
   "metadata": {},
   "outputs": [
    {
     "data": {
      "application/vnd.plotly.v1+json": {
       "config": {
        "plotlyServerURL": "https://plot.ly"
       },
       "data": [
        {
         "bingroup": "x",
         "hovertemplate": "steps=%{x}<br>count=%{y}<extra></extra>",
         "legendgroup": "",
         "marker": {
          "color": "#636efa",
          "pattern": {
           "shape": ""
          }
         },
         "name": "",
         "orientation": "v",
         "showlegend": false,
         "type": "histogram",
         "x": {
          "bdata": "AAAAAACtukAAAAAAAD2+QAAAAACAEcBAAAAAAADnyUAAAAAAgFDCQAAAAAAARL9AAAAAAAAwskAAAAAAAGy4QAAAAAAAuMZAAAAAAADyuEAAAAAAADS0QAAAAACAqMFAAAAAAADqxEAAAAAAAO6/QAAAAAAA5LdAAAAAAABywkAAAAAAAD2+QAAAAAAAuMRAAAAAAADPs0AAAAAAgFrBQAAAAAAAyrhAAAAAAIDxwEAAAAAAANXAQAAAAAAAiLlAAAAAAAA7v0AAAAAAAP/CQAAAAAAAE8dAAAAAAAC4xEAAAAAAALLBQAAAAAAAcLNAAAAAAICewEAAAAAAAOi8QAAAAAAA0cBAAAAAAAD3yEAAAAAAgOHBQAAAAAAA779AAAAAAICOwUAAAAAAAPC0QAAAAAAAabhAAAAAAIDwwkAAAAAAABDBQAAAAAAAYbtAAAAAAACuwkAAAAAAADK+QAAAAAAA47NAAAAAAACYtUAAAAAAgF7AQAAAAAAA9r9AAAAAAADdxEAAAAAAANq2QAAAAAAAAblAAAAAAIALwkAAAAAAAPi/QAAAAAAAtr1AAAAAAABzw0AAAAAAAJa8QAAAAAAALLpAAAAAAACmvEAAAAAAANDAQAAAAAAA27tAAAAAAABGykAAAAAAgFjMQAAAAAAAqMFAAAAAAIAfwkAAAAAAAIPEQAAAAAAApL9AAAAAAADRtkAAAAAAANqzQAAAAAAAfbpAAAAAAACsukAAAAAAgLDAQAAAAACAqMFAAAAAAABAvkAAAAAAAEy1QAAAAACA68VAAAAAAAAcwUAAAAAAgPzBQAAAAACA88ZAAAAAAAC9vUAAAAAAAOi8QAAAAACAHsNAAAAAAIAbwUAAAAAAAA3GQAAAAAAA8cFAAAAAAABvu0AAAAAAAIy6QAAAAAAA7bRAAAAAAAD0xEAAAAAAAD3EQAAAAAAAib9AAAAAAAA6tEAAAAAAAMu3QAAAAACA5sJAAAAAAIDkwUAAAAAAAMjBQAAAAAAAWsFAAAAAAAC2zkAAAAAAgF7AQAAAAAAANb5AAAAAAAAJvkAAAAAAAAy5QAAAAAAADqlAAAAAAICNwEAAAAAAABK7QAAAAAAAbr9AAAAAAIARxUAAAAAAAO+5QAAAAAAAT8NAAAAAAAD4wkAAAAAAAKG8QAAAAACA2sBAAAAAAIBHwkAAAAAAALy3QAAAAACAIcBAAAAAAIBxyUAAAAAAAM68QAAAAAAAnL9AAAAAAAAhvkAAAAAAAELBQAAAAAAAwLxAAAAAAIDhxkAAAAAAAKbAQAAAAAAAWMJAAAAAAIBdzEAAAAAAAOnHQAAAAAAAArRAAAAAAACZsUAAAAAAAN66QAAAAAAAubtAAAAAAABitUAAAAAAgLPBQAAAAACAw8ZAAAAAAIAlw0AAAAAAAKi1QAAAAAAAoMJAAAAAAAD0w0AAAAAAAIuzQAAAAAAABsVAAAAAAAAmw0AAAAAAgLXCQAAAAAAAV7dAAAAAAABdxkAAAAAAAAGzQAAAAAAAbbhAAAAAAAA0wkAAAAAAAFPNQAAAAAAAw8ZAAAAAAAC9tUAAAAAAAEC2QAAAAAAA071AAAAAAIA+xEAAAAAAgAnAQAAAAACAH8JAAAAAAACiukAAAAAAAGrGQAAAAACAGMNAAAAAAABPzUAAAAAAAA3DQAAAAAAAXrRAAAAAAAB3uEAAAAAAAEnBQAAAAACABchAAAAAAABMqUAAAAAAANe5QAAAAACAc8dAAAAAAIBYwkAAAAAAAG3BQAAAAACAasFAAAAAAADuwUAAAAAAAGHGQAAAAAAAqr9AAAAAAACCwkAAAAAAAAS8QAAAAACAD8dAAAAAAAD7tkAAAAAAgN/AQAAAAACAxcBAAAAAAABUxEAAAAAAAHKpQA==",
          "dtype": "f8"
         },
         "xaxis": "x",
         "yaxis": "y"
        }
       ],
       "layout": {
        "barmode": "relative",
        "legend": {
         "tracegroupgap": 0
        },
        "template": {
         "data": {
          "bar": [
           {
            "error_x": {
             "color": "#2a3f5f"
            },
            "error_y": {
             "color": "#2a3f5f"
            },
            "marker": {
             "line": {
              "color": "#E5ECF6",
              "width": 0.5
             },
             "pattern": {
              "fillmode": "overlay",
              "size": 10,
              "solidity": 0.2
             }
            },
            "type": "bar"
           }
          ],
          "barpolar": [
           {
            "marker": {
             "line": {
              "color": "#E5ECF6",
              "width": 0.5
             },
             "pattern": {
              "fillmode": "overlay",
              "size": 10,
              "solidity": 0.2
             }
            },
            "type": "barpolar"
           }
          ],
          "carpet": [
           {
            "aaxis": {
             "endlinecolor": "#2a3f5f",
             "gridcolor": "white",
             "linecolor": "white",
             "minorgridcolor": "white",
             "startlinecolor": "#2a3f5f"
            },
            "baxis": {
             "endlinecolor": "#2a3f5f",
             "gridcolor": "white",
             "linecolor": "white",
             "minorgridcolor": "white",
             "startlinecolor": "#2a3f5f"
            },
            "type": "carpet"
           }
          ],
          "choropleth": [
           {
            "colorbar": {
             "outlinewidth": 0,
             "ticks": ""
            },
            "type": "choropleth"
           }
          ],
          "contour": [
           {
            "colorbar": {
             "outlinewidth": 0,
             "ticks": ""
            },
            "colorscale": [
             [
              0,
              "#0d0887"
             ],
             [
              0.1111111111111111,
              "#46039f"
             ],
             [
              0.2222222222222222,
              "#7201a8"
             ],
             [
              0.3333333333333333,
              "#9c179e"
             ],
             [
              0.4444444444444444,
              "#bd3786"
             ],
             [
              0.5555555555555556,
              "#d8576b"
             ],
             [
              0.6666666666666666,
              "#ed7953"
             ],
             [
              0.7777777777777778,
              "#fb9f3a"
             ],
             [
              0.8888888888888888,
              "#fdca26"
             ],
             [
              1,
              "#f0f921"
             ]
            ],
            "type": "contour"
           }
          ],
          "contourcarpet": [
           {
            "colorbar": {
             "outlinewidth": 0,
             "ticks": ""
            },
            "type": "contourcarpet"
           }
          ],
          "heatmap": [
           {
            "colorbar": {
             "outlinewidth": 0,
             "ticks": ""
            },
            "colorscale": [
             [
              0,
              "#0d0887"
             ],
             [
              0.1111111111111111,
              "#46039f"
             ],
             [
              0.2222222222222222,
              "#7201a8"
             ],
             [
              0.3333333333333333,
              "#9c179e"
             ],
             [
              0.4444444444444444,
              "#bd3786"
             ],
             [
              0.5555555555555556,
              "#d8576b"
             ],
             [
              0.6666666666666666,
              "#ed7953"
             ],
             [
              0.7777777777777778,
              "#fb9f3a"
             ],
             [
              0.8888888888888888,
              "#fdca26"
             ],
             [
              1,
              "#f0f921"
             ]
            ],
            "type": "heatmap"
           }
          ],
          "histogram": [
           {
            "marker": {
             "pattern": {
              "fillmode": "overlay",
              "size": 10,
              "solidity": 0.2
             }
            },
            "type": "histogram"
           }
          ],
          "histogram2d": [
           {
            "colorbar": {
             "outlinewidth": 0,
             "ticks": ""
            },
            "colorscale": [
             [
              0,
              "#0d0887"
             ],
             [
              0.1111111111111111,
              "#46039f"
             ],
             [
              0.2222222222222222,
              "#7201a8"
             ],
             [
              0.3333333333333333,
              "#9c179e"
             ],
             [
              0.4444444444444444,
              "#bd3786"
             ],
             [
              0.5555555555555556,
              "#d8576b"
             ],
             [
              0.6666666666666666,
              "#ed7953"
             ],
             [
              0.7777777777777778,
              "#fb9f3a"
             ],
             [
              0.8888888888888888,
              "#fdca26"
             ],
             [
              1,
              "#f0f921"
             ]
            ],
            "type": "histogram2d"
           }
          ],
          "histogram2dcontour": [
           {
            "colorbar": {
             "outlinewidth": 0,
             "ticks": ""
            },
            "colorscale": [
             [
              0,
              "#0d0887"
             ],
             [
              0.1111111111111111,
              "#46039f"
             ],
             [
              0.2222222222222222,
              "#7201a8"
             ],
             [
              0.3333333333333333,
              "#9c179e"
             ],
             [
              0.4444444444444444,
              "#bd3786"
             ],
             [
              0.5555555555555556,
              "#d8576b"
             ],
             [
              0.6666666666666666,
              "#ed7953"
             ],
             [
              0.7777777777777778,
              "#fb9f3a"
             ],
             [
              0.8888888888888888,
              "#fdca26"
             ],
             [
              1,
              "#f0f921"
             ]
            ],
            "type": "histogram2dcontour"
           }
          ],
          "mesh3d": [
           {
            "colorbar": {
             "outlinewidth": 0,
             "ticks": ""
            },
            "type": "mesh3d"
           }
          ],
          "parcoords": [
           {
            "line": {
             "colorbar": {
              "outlinewidth": 0,
              "ticks": ""
             }
            },
            "type": "parcoords"
           }
          ],
          "pie": [
           {
            "automargin": true,
            "type": "pie"
           }
          ],
          "scatter": [
           {
            "fillpattern": {
             "fillmode": "overlay",
             "size": 10,
             "solidity": 0.2
            },
            "type": "scatter"
           }
          ],
          "scatter3d": [
           {
            "line": {
             "colorbar": {
              "outlinewidth": 0,
              "ticks": ""
             }
            },
            "marker": {
             "colorbar": {
              "outlinewidth": 0,
              "ticks": ""
             }
            },
            "type": "scatter3d"
           }
          ],
          "scattercarpet": [
           {
            "marker": {
             "colorbar": {
              "outlinewidth": 0,
              "ticks": ""
             }
            },
            "type": "scattercarpet"
           }
          ],
          "scattergeo": [
           {
            "marker": {
             "colorbar": {
              "outlinewidth": 0,
              "ticks": ""
             }
            },
            "type": "scattergeo"
           }
          ],
          "scattergl": [
           {
            "marker": {
             "colorbar": {
              "outlinewidth": 0,
              "ticks": ""
             }
            },
            "type": "scattergl"
           }
          ],
          "scattermap": [
           {
            "marker": {
             "colorbar": {
              "outlinewidth": 0,
              "ticks": ""
             }
            },
            "type": "scattermap"
           }
          ],
          "scattermapbox": [
           {
            "marker": {
             "colorbar": {
              "outlinewidth": 0,
              "ticks": ""
             }
            },
            "type": "scattermapbox"
           }
          ],
          "scatterpolar": [
           {
            "marker": {
             "colorbar": {
              "outlinewidth": 0,
              "ticks": ""
             }
            },
            "type": "scatterpolar"
           }
          ],
          "scatterpolargl": [
           {
            "marker": {
             "colorbar": {
              "outlinewidth": 0,
              "ticks": ""
             }
            },
            "type": "scatterpolargl"
           }
          ],
          "scatterternary": [
           {
            "marker": {
             "colorbar": {
              "outlinewidth": 0,
              "ticks": ""
             }
            },
            "type": "scatterternary"
           }
          ],
          "surface": [
           {
            "colorbar": {
             "outlinewidth": 0,
             "ticks": ""
            },
            "colorscale": [
             [
              0,
              "#0d0887"
             ],
             [
              0.1111111111111111,
              "#46039f"
             ],
             [
              0.2222222222222222,
              "#7201a8"
             ],
             [
              0.3333333333333333,
              "#9c179e"
             ],
             [
              0.4444444444444444,
              "#bd3786"
             ],
             [
              0.5555555555555556,
              "#d8576b"
             ],
             [
              0.6666666666666666,
              "#ed7953"
             ],
             [
              0.7777777777777778,
              "#fb9f3a"
             ],
             [
              0.8888888888888888,
              "#fdca26"
             ],
             [
              1,
              "#f0f921"
             ]
            ],
            "type": "surface"
           }
          ],
          "table": [
           {
            "cells": {
             "fill": {
              "color": "#EBF0F8"
             },
             "line": {
              "color": "white"
             }
            },
            "header": {
             "fill": {
              "color": "#C8D4E3"
             },
             "line": {
              "color": "white"
             }
            },
            "type": "table"
           }
          ]
         },
         "layout": {
          "annotationdefaults": {
           "arrowcolor": "#2a3f5f",
           "arrowhead": 0,
           "arrowwidth": 1
          },
          "autotypenumbers": "strict",
          "coloraxis": {
           "colorbar": {
            "outlinewidth": 0,
            "ticks": ""
           }
          },
          "colorscale": {
           "diverging": [
            [
             0,
             "#8e0152"
            ],
            [
             0.1,
             "#c51b7d"
            ],
            [
             0.2,
             "#de77ae"
            ],
            [
             0.3,
             "#f1b6da"
            ],
            [
             0.4,
             "#fde0ef"
            ],
            [
             0.5,
             "#f7f7f7"
            ],
            [
             0.6,
             "#e6f5d0"
            ],
            [
             0.7,
             "#b8e186"
            ],
            [
             0.8,
             "#7fbc41"
            ],
            [
             0.9,
             "#4d9221"
            ],
            [
             1,
             "#276419"
            ]
           ],
           "sequential": [
            [
             0,
             "#0d0887"
            ],
            [
             0.1111111111111111,
             "#46039f"
            ],
            [
             0.2222222222222222,
             "#7201a8"
            ],
            [
             0.3333333333333333,
             "#9c179e"
            ],
            [
             0.4444444444444444,
             "#bd3786"
            ],
            [
             0.5555555555555556,
             "#d8576b"
            ],
            [
             0.6666666666666666,
             "#ed7953"
            ],
            [
             0.7777777777777778,
             "#fb9f3a"
            ],
            [
             0.8888888888888888,
             "#fdca26"
            ],
            [
             1,
             "#f0f921"
            ]
           ],
           "sequentialminus": [
            [
             0,
             "#0d0887"
            ],
            [
             0.1111111111111111,
             "#46039f"
            ],
            [
             0.2222222222222222,
             "#7201a8"
            ],
            [
             0.3333333333333333,
             "#9c179e"
            ],
            [
             0.4444444444444444,
             "#bd3786"
            ],
            [
             0.5555555555555556,
             "#d8576b"
            ],
            [
             0.6666666666666666,
             "#ed7953"
            ],
            [
             0.7777777777777778,
             "#fb9f3a"
            ],
            [
             0.8888888888888888,
             "#fdca26"
            ],
            [
             1,
             "#f0f921"
            ]
           ]
          },
          "colorway": [
           "#636efa",
           "#EF553B",
           "#00cc96",
           "#ab63fa",
           "#FFA15A",
           "#19d3f3",
           "#FF6692",
           "#B6E880",
           "#FF97FF",
           "#FECB52"
          ],
          "font": {
           "color": "#2a3f5f"
          },
          "geo": {
           "bgcolor": "white",
           "lakecolor": "white",
           "landcolor": "#E5ECF6",
           "showlakes": true,
           "showland": true,
           "subunitcolor": "white"
          },
          "hoverlabel": {
           "align": "left"
          },
          "hovermode": "closest",
          "mapbox": {
           "style": "light"
          },
          "paper_bgcolor": "white",
          "plot_bgcolor": "#E5ECF6",
          "polar": {
           "angularaxis": {
            "gridcolor": "white",
            "linecolor": "white",
            "ticks": ""
           },
           "bgcolor": "#E5ECF6",
           "radialaxis": {
            "gridcolor": "white",
            "linecolor": "white",
            "ticks": ""
           }
          },
          "scene": {
           "xaxis": {
            "backgroundcolor": "#E5ECF6",
            "gridcolor": "white",
            "gridwidth": 2,
            "linecolor": "white",
            "showbackground": true,
            "ticks": "",
            "zerolinecolor": "white"
           },
           "yaxis": {
            "backgroundcolor": "#E5ECF6",
            "gridcolor": "white",
            "gridwidth": 2,
            "linecolor": "white",
            "showbackground": true,
            "ticks": "",
            "zerolinecolor": "white"
           },
           "zaxis": {
            "backgroundcolor": "#E5ECF6",
            "gridcolor": "white",
            "gridwidth": 2,
            "linecolor": "white",
            "showbackground": true,
            "ticks": "",
            "zerolinecolor": "white"
           }
          },
          "shapedefaults": {
           "line": {
            "color": "#2a3f5f"
           }
          },
          "ternary": {
           "aaxis": {
            "gridcolor": "white",
            "linecolor": "white",
            "ticks": ""
           },
           "baxis": {
            "gridcolor": "white",
            "linecolor": "white",
            "ticks": ""
           },
           "bgcolor": "#E5ECF6",
           "caxis": {
            "gridcolor": "white",
            "linecolor": "white",
            "ticks": ""
           }
          },
          "title": {
           "x": 0.05
          },
          "xaxis": {
           "automargin": true,
           "gridcolor": "white",
           "linecolor": "white",
           "ticks": "",
           "title": {
            "standoff": 15
           },
           "zerolinecolor": "white",
           "zerolinewidth": 2
          },
          "yaxis": {
           "automargin": true,
           "gridcolor": "white",
           "linecolor": "white",
           "ticks": "",
           "title": {
            "standoff": 15
           },
           "zerolinecolor": "white",
           "zerolinewidth": 2
          }
         }
        },
        "title": {
         "text": "Distribution of Steps"
        },
        "xaxis": {
         "anchor": "y",
         "domain": [
          0,
          1
         ],
         "title": {
          "text": "steps"
         }
        },
        "yaxis": {
         "anchor": "x",
         "domain": [
          0,
          1
         ],
         "title": {
          "text": "count"
         }
        }
       }
      }
     },
     "metadata": {},
     "output_type": "display_data"
    }
   ],
   "source": [
    "fig = px.histogram(fitness_data, x='steps', title='Distribution of Steps')\n",
    "fig.show()"
   ]
  },
  {
   "cell_type": "markdown",
   "metadata": {},
   "source": [
    "Create a line chart of the number of steps over time. Add a market, specifying if the date is a weekend."
   ]
  },
  {
   "cell_type": "code",
   "execution_count": 40,
   "metadata": {},
   "outputs": [
    {
     "data": {
      "application/vnd.plotly.v1+json": {
       "config": {
        "plotlyServerURL": "https://plot.ly"
       },
       "data": [
        {
         "hovertemplate": "date=%{x}<br>steps=%{y}<extra></extra>",
         "legendgroup": "",
         "line": {
          "color": "#636efa",
          "dash": "solid"
         },
         "marker": {
          "color": [
           "blue",
           "blue",
           "blue",
           "blue",
           "blue",
           "red",
           "red",
           "blue",
           "blue",
           "blue",
           "blue",
           "blue",
           "red",
           "red",
           "blue",
           "blue",
           "blue",
           "blue",
           "blue",
           "red",
           "red",
           "blue",
           "blue",
           "blue",
           "blue",
           "blue",
           "red",
           "red",
           "blue",
           "blue",
           "blue",
           "blue",
           "blue",
           "red",
           "red",
           "blue",
           "blue",
           "blue",
           "blue",
           "blue",
           "red",
           "red",
           "blue",
           "blue",
           "blue",
           "blue",
           "blue",
           "red",
           "red",
           "blue",
           "blue",
           "blue",
           "blue",
           "blue",
           "red",
           "red",
           "blue",
           "blue",
           "blue",
           "blue",
           "blue",
           "red",
           "red",
           "blue",
           "blue",
           "blue",
           "blue",
           "blue",
           "red",
           "red",
           "blue",
           "blue",
           "blue",
           "blue",
           "blue",
           "red",
           "red",
           "blue",
           "blue",
           "blue",
           "blue",
           "blue",
           "red",
           "red",
           "blue",
           "blue",
           "blue",
           "blue",
           "blue",
           "red",
           "red",
           "blue",
           "blue",
           "blue",
           "blue",
           "blue",
           "red",
           "red",
           "blue",
           "blue",
           "blue",
           "blue",
           "blue",
           "red",
           "red",
           "blue",
           "blue",
           "blue",
           "blue",
           "blue",
           "red",
           "red",
           "blue",
           "blue",
           "blue",
           "blue",
           "blue",
           "red",
           "red",
           "blue",
           "blue",
           "blue",
           "blue",
           "blue",
           "red",
           "red",
           "blue",
           "blue",
           "blue",
           "blue",
           "blue",
           "red",
           "red",
           "blue",
           "blue",
           "blue",
           "blue",
           "blue",
           "red",
           "red",
           "blue",
           "blue",
           "blue",
           "blue",
           "blue",
           "red",
           "red",
           "blue",
           "blue",
           "blue",
           "red",
           "blue",
           "blue",
           "blue",
           "blue",
           "blue",
           "red",
           "red",
           "blue",
           "blue",
           "blue",
           "blue",
           "blue",
           "red",
           "red",
           "blue",
           "blue",
           "blue",
           "blue",
           "blue",
           "red",
           "red",
           "blue",
           "blue",
           "red",
           "red",
           "blue",
           "blue",
           "blue"
          ],
          "symbol": "circle"
         },
         "mode": "lines+markers",
         "name": "",
         "orientation": "v",
         "showlegend": false,
         "type": "scatter",
         "x": [
          "2024-07-01T00:00:00.000000000",
          "2024-07-02T00:00:00.000000000",
          "2024-07-03T00:00:00.000000000",
          "2024-07-04T00:00:00.000000000",
          "2024-07-05T00:00:00.000000000",
          "2024-07-06T00:00:00.000000000",
          "2024-07-07T00:00:00.000000000",
          "2024-07-08T00:00:00.000000000",
          "2024-07-09T00:00:00.000000000",
          "2024-07-10T00:00:00.000000000",
          "2024-07-11T00:00:00.000000000",
          "2024-07-12T00:00:00.000000000",
          "2024-07-13T00:00:00.000000000",
          "2024-07-14T00:00:00.000000000",
          "2024-07-15T00:00:00.000000000",
          "2024-07-16T00:00:00.000000000",
          "2024-07-17T00:00:00.000000000",
          "2024-07-18T00:00:00.000000000",
          "2024-07-19T00:00:00.000000000",
          "2024-07-20T00:00:00.000000000",
          "2024-07-21T00:00:00.000000000",
          "2024-07-22T00:00:00.000000000",
          "2024-07-23T00:00:00.000000000",
          "2024-07-24T00:00:00.000000000",
          "2024-07-25T00:00:00.000000000",
          "2024-07-26T00:00:00.000000000",
          "2024-07-27T00:00:00.000000000",
          "2024-07-28T00:00:00.000000000",
          "2024-07-29T00:00:00.000000000",
          "2024-07-30T00:00:00.000000000",
          "2024-07-31T00:00:00.000000000",
          "2024-08-01T00:00:00.000000000",
          "2024-08-02T00:00:00.000000000",
          "2024-08-03T00:00:00.000000000",
          "2024-08-04T00:00:00.000000000",
          "2024-08-05T00:00:00.000000000",
          "2024-08-06T00:00:00.000000000",
          "2024-08-07T00:00:00.000000000",
          "2024-08-08T00:00:00.000000000",
          "2024-08-09T00:00:00.000000000",
          "2024-08-10T00:00:00.000000000",
          "2024-08-11T00:00:00.000000000",
          "2024-08-12T00:00:00.000000000",
          "2024-08-13T00:00:00.000000000",
          "2024-08-14T00:00:00.000000000",
          "2024-08-15T00:00:00.000000000",
          "2024-08-16T00:00:00.000000000",
          "2024-08-17T00:00:00.000000000",
          "2024-08-18T00:00:00.000000000",
          "2024-08-19T00:00:00.000000000",
          "2024-08-20T00:00:00.000000000",
          "2024-08-21T00:00:00.000000000",
          "2024-08-22T00:00:00.000000000",
          "2024-08-23T00:00:00.000000000",
          "2024-08-24T00:00:00.000000000",
          "2024-08-25T00:00:00.000000000",
          "2024-08-26T00:00:00.000000000",
          "2024-08-27T00:00:00.000000000",
          "2024-08-28T00:00:00.000000000",
          "2024-08-29T00:00:00.000000000",
          "2024-08-30T00:00:00.000000000",
          "2024-08-31T00:00:00.000000000",
          "2024-09-01T00:00:00.000000000",
          "2024-09-02T00:00:00.000000000",
          "2024-09-03T00:00:00.000000000",
          "2024-09-04T00:00:00.000000000",
          "2024-09-05T00:00:00.000000000",
          "2024-09-06T00:00:00.000000000",
          "2024-09-07T00:00:00.000000000",
          "2024-09-08T00:00:00.000000000",
          "2024-09-09T00:00:00.000000000",
          "2024-09-10T00:00:00.000000000",
          "2024-09-11T00:00:00.000000000",
          "2024-09-12T00:00:00.000000000",
          "2024-09-13T00:00:00.000000000",
          "2024-09-14T00:00:00.000000000",
          "2024-09-15T00:00:00.000000000",
          "2024-09-16T00:00:00.000000000",
          "2024-09-17T00:00:00.000000000",
          "2024-09-18T00:00:00.000000000",
          "2024-09-19T00:00:00.000000000",
          "2024-09-20T00:00:00.000000000",
          "2024-09-21T00:00:00.000000000",
          "2024-09-22T00:00:00.000000000",
          "2024-09-23T00:00:00.000000000",
          "2024-09-24T00:00:00.000000000",
          "2024-09-25T00:00:00.000000000",
          "2024-09-26T00:00:00.000000000",
          "2024-09-27T00:00:00.000000000",
          "2024-09-28T00:00:00.000000000",
          "2024-09-29T00:00:00.000000000",
          "2024-09-30T00:00:00.000000000",
          "2024-10-01T00:00:00.000000000",
          "2024-10-02T00:00:00.000000000",
          "2024-10-03T00:00:00.000000000",
          "2024-10-04T00:00:00.000000000",
          "2024-10-05T00:00:00.000000000",
          "2024-10-06T00:00:00.000000000",
          "2024-10-07T00:00:00.000000000",
          "2024-10-08T00:00:00.000000000",
          "2024-10-09T00:00:00.000000000",
          "2024-10-10T00:00:00.000000000",
          "2024-10-11T00:00:00.000000000",
          "2024-10-12T00:00:00.000000000",
          "2024-10-13T00:00:00.000000000",
          "2024-10-14T00:00:00.000000000",
          "2024-10-15T00:00:00.000000000",
          "2024-10-16T00:00:00.000000000",
          "2024-10-17T00:00:00.000000000",
          "2024-10-18T00:00:00.000000000",
          "2024-10-19T00:00:00.000000000",
          "2024-10-20T00:00:00.000000000",
          "2024-10-21T00:00:00.000000000",
          "2024-10-22T00:00:00.000000000",
          "2024-10-23T00:00:00.000000000",
          "2024-10-24T00:00:00.000000000",
          "2024-10-25T00:00:00.000000000",
          "2024-10-26T00:00:00.000000000",
          "2024-10-27T00:00:00.000000000",
          "2024-10-28T00:00:00.000000000",
          "2024-10-29T00:00:00.000000000",
          "2024-10-30T00:00:00.000000000",
          "2024-10-31T00:00:00.000000000",
          "2024-11-01T00:00:00.000000000",
          "2024-11-02T00:00:00.000000000",
          "2024-11-03T00:00:00.000000000",
          "2024-11-04T00:00:00.000000000",
          "2024-11-05T00:00:00.000000000",
          "2024-11-06T00:00:00.000000000",
          "2024-11-07T00:00:00.000000000",
          "2024-11-08T00:00:00.000000000",
          "2024-11-09T00:00:00.000000000",
          "2024-11-10T00:00:00.000000000",
          "2024-11-11T00:00:00.000000000",
          "2024-11-12T00:00:00.000000000",
          "2024-11-13T00:00:00.000000000",
          "2024-11-14T00:00:00.000000000",
          "2024-11-15T00:00:00.000000000",
          "2024-11-16T00:00:00.000000000",
          "2024-11-17T00:00:00.000000000",
          "2024-11-18T00:00:00.000000000",
          "2024-11-19T00:00:00.000000000",
          "2024-11-20T00:00:00.000000000",
          "2024-11-21T00:00:00.000000000",
          "2024-11-22T00:00:00.000000000",
          "2024-11-23T00:00:00.000000000",
          "2024-11-24T00:00:00.000000000",
          "2024-11-25T00:00:00.000000000",
          "2024-11-26T00:00:00.000000000",
          "2024-11-27T00:00:00.000000000",
          "2024-12-01T00:00:00.000000000",
          "2024-12-02T00:00:00.000000000",
          "2024-12-03T00:00:00.000000000",
          "2024-12-04T00:00:00.000000000",
          "2024-12-05T00:00:00.000000000",
          "2024-12-06T00:00:00.000000000",
          "2024-12-07T00:00:00.000000000",
          "2024-12-08T00:00:00.000000000",
          "2024-12-09T00:00:00.000000000",
          "2024-12-10T00:00:00.000000000",
          "2024-12-11T00:00:00.000000000",
          "2024-12-12T00:00:00.000000000",
          "2024-12-13T00:00:00.000000000",
          "2024-12-14T00:00:00.000000000",
          "2024-12-15T00:00:00.000000000",
          "2024-12-16T00:00:00.000000000",
          "2024-12-17T00:00:00.000000000",
          "2024-12-18T00:00:00.000000000",
          "2024-12-19T00:00:00.000000000",
          "2024-12-20T00:00:00.000000000",
          "2024-12-21T00:00:00.000000000",
          "2024-12-22T00:00:00.000000000",
          "2024-12-23T00:00:00.000000000",
          "2024-12-27T00:00:00.000000000",
          "2024-12-28T00:00:00.000000000",
          "2024-12-29T00:00:00.000000000",
          "2024-12-30T00:00:00.000000000",
          "2024-12-31T00:00:00.000000000",
          "2025-01-01T00:00:00.000000000"
         ],
         "xaxis": "x",
         "y": {
          "bdata": "AAAAAACtukAAAAAAAD2+QAAAAACAEcBAAAAAAADnyUAAAAAAgFDCQAAAAAAARL9AAAAAAAAwskAAAAAAAGy4QAAAAAAAuMZAAAAAAADyuEAAAAAAADS0QAAAAACAqMFAAAAAAADqxEAAAAAAAO6/QAAAAAAA5LdAAAAAAABywkAAAAAAAD2+QAAAAAAAuMRAAAAAAADPs0AAAAAAgFrBQAAAAAAAyrhAAAAAAIDxwEAAAAAAANXAQAAAAAAAiLlAAAAAAAA7v0AAAAAAAP/CQAAAAAAAE8dAAAAAAAC4xEAAAAAAALLBQAAAAAAAcLNAAAAAAICewEAAAAAAAOi8QAAAAAAA0cBAAAAAAAD3yEAAAAAAgOHBQAAAAAAA779AAAAAAICOwUAAAAAAAPC0QAAAAAAAabhAAAAAAIDwwkAAAAAAABDBQAAAAAAAYbtAAAAAAACuwkAAAAAAADK+QAAAAAAA47NAAAAAAACYtUAAAAAAgF7AQAAAAAAA9r9AAAAAAADdxEAAAAAAANq2QAAAAAAAAblAAAAAAIALwkAAAAAAAPi/QAAAAAAAtr1AAAAAAABzw0AAAAAAAJa8QAAAAAAALLpAAAAAAACmvEAAAAAAANDAQAAAAAAA27tAAAAAAABGykAAAAAAgFjMQAAAAAAAqMFAAAAAAIAfwkAAAAAAAIPEQAAAAAAApL9AAAAAAADRtkAAAAAAANqzQAAAAAAAfbpAAAAAAACsukAAAAAAgLDAQAAAAACAqMFAAAAAAABAvkAAAAAAAEy1QAAAAACA68VAAAAAAAAcwUAAAAAAgPzBQAAAAACA88ZAAAAAAAC9vUAAAAAAAOi8QAAAAACAHsNAAAAAAIAbwUAAAAAAAA3GQAAAAAAA8cFAAAAAAABvu0AAAAAAAIy6QAAAAAAA7bRAAAAAAAD0xEAAAAAAAD3EQAAAAAAAib9AAAAAAAA6tEAAAAAAAMu3QAAAAACA5sJAAAAAAIDkwUAAAAAAAMjBQAAAAAAAWsFAAAAAAAC2zkAAAAAAgF7AQAAAAAAANb5AAAAAAAAJvkAAAAAAAAy5QAAAAAAADqlAAAAAAICNwEAAAAAAABK7QAAAAAAAbr9AAAAAAIARxUAAAAAAAO+5QAAAAAAAT8NAAAAAAAD4wkAAAAAAAKG8QAAAAACA2sBAAAAAAIBHwkAAAAAAALy3QAAAAACAIcBAAAAAAIBxyUAAAAAAAM68QAAAAAAAnL9AAAAAAAAhvkAAAAAAAELBQAAAAAAAwLxAAAAAAIDhxkAAAAAAAKbAQAAAAAAAWMJAAAAAAIBdzEAAAAAAAOnHQAAAAAAAArRAAAAAAACZsUAAAAAAAN66QAAAAAAAubtAAAAAAABitUAAAAAAgLPBQAAAAACAw8ZAAAAAAIAlw0AAAAAAAKi1QAAAAAAAoMJAAAAAAAD0w0AAAAAAAIuzQAAAAAAABsVAAAAAAAAmw0AAAAAAgLXCQAAAAAAAV7dAAAAAAABdxkAAAAAAAAGzQAAAAAAAbbhAAAAAAAA0wkAAAAAAAFPNQAAAAAAAw8ZAAAAAAAC9tUAAAAAAAEC2QAAAAAAA071AAAAAAIA+xEAAAAAAgAnAQAAAAACAH8JAAAAAAACiukAAAAAAAGrGQAAAAACAGMNAAAAAAABPzUAAAAAAAA3DQAAAAAAAXrRAAAAAAAB3uEAAAAAAAEnBQAAAAACABchAAAAAAABMqUAAAAAAANe5QAAAAACAc8dAAAAAAIBYwkAAAAAAAG3BQAAAAACAasFAAAAAAADuwUAAAAAAAGHGQAAAAAAAqr9AAAAAAACCwkAAAAAAAAS8QAAAAACAD8dAAAAAAAD7tkAAAAAAgN/AQAAAAACAxcBAAAAAAABUxEAAAAAAAHKpQA==",
          "dtype": "f8"
         },
         "yaxis": "y"
        }
       ],
       "layout": {
        "legend": {
         "tracegroupgap": 0
        },
        "template": {
         "data": {
          "bar": [
           {
            "error_x": {
             "color": "#2a3f5f"
            },
            "error_y": {
             "color": "#2a3f5f"
            },
            "marker": {
             "line": {
              "color": "#E5ECF6",
              "width": 0.5
             },
             "pattern": {
              "fillmode": "overlay",
              "size": 10,
              "solidity": 0.2
             }
            },
            "type": "bar"
           }
          ],
          "barpolar": [
           {
            "marker": {
             "line": {
              "color": "#E5ECF6",
              "width": 0.5
             },
             "pattern": {
              "fillmode": "overlay",
              "size": 10,
              "solidity": 0.2
             }
            },
            "type": "barpolar"
           }
          ],
          "carpet": [
           {
            "aaxis": {
             "endlinecolor": "#2a3f5f",
             "gridcolor": "white",
             "linecolor": "white",
             "minorgridcolor": "white",
             "startlinecolor": "#2a3f5f"
            },
            "baxis": {
             "endlinecolor": "#2a3f5f",
             "gridcolor": "white",
             "linecolor": "white",
             "minorgridcolor": "white",
             "startlinecolor": "#2a3f5f"
            },
            "type": "carpet"
           }
          ],
          "choropleth": [
           {
            "colorbar": {
             "outlinewidth": 0,
             "ticks": ""
            },
            "type": "choropleth"
           }
          ],
          "contour": [
           {
            "colorbar": {
             "outlinewidth": 0,
             "ticks": ""
            },
            "colorscale": [
             [
              0,
              "#0d0887"
             ],
             [
              0.1111111111111111,
              "#46039f"
             ],
             [
              0.2222222222222222,
              "#7201a8"
             ],
             [
              0.3333333333333333,
              "#9c179e"
             ],
             [
              0.4444444444444444,
              "#bd3786"
             ],
             [
              0.5555555555555556,
              "#d8576b"
             ],
             [
              0.6666666666666666,
              "#ed7953"
             ],
             [
              0.7777777777777778,
              "#fb9f3a"
             ],
             [
              0.8888888888888888,
              "#fdca26"
             ],
             [
              1,
              "#f0f921"
             ]
            ],
            "type": "contour"
           }
          ],
          "contourcarpet": [
           {
            "colorbar": {
             "outlinewidth": 0,
             "ticks": ""
            },
            "type": "contourcarpet"
           }
          ],
          "heatmap": [
           {
            "colorbar": {
             "outlinewidth": 0,
             "ticks": ""
            },
            "colorscale": [
             [
              0,
              "#0d0887"
             ],
             [
              0.1111111111111111,
              "#46039f"
             ],
             [
              0.2222222222222222,
              "#7201a8"
             ],
             [
              0.3333333333333333,
              "#9c179e"
             ],
             [
              0.4444444444444444,
              "#bd3786"
             ],
             [
              0.5555555555555556,
              "#d8576b"
             ],
             [
              0.6666666666666666,
              "#ed7953"
             ],
             [
              0.7777777777777778,
              "#fb9f3a"
             ],
             [
              0.8888888888888888,
              "#fdca26"
             ],
             [
              1,
              "#f0f921"
             ]
            ],
            "type": "heatmap"
           }
          ],
          "histogram": [
           {
            "marker": {
             "pattern": {
              "fillmode": "overlay",
              "size": 10,
              "solidity": 0.2
             }
            },
            "type": "histogram"
           }
          ],
          "histogram2d": [
           {
            "colorbar": {
             "outlinewidth": 0,
             "ticks": ""
            },
            "colorscale": [
             [
              0,
              "#0d0887"
             ],
             [
              0.1111111111111111,
              "#46039f"
             ],
             [
              0.2222222222222222,
              "#7201a8"
             ],
             [
              0.3333333333333333,
              "#9c179e"
             ],
             [
              0.4444444444444444,
              "#bd3786"
             ],
             [
              0.5555555555555556,
              "#d8576b"
             ],
             [
              0.6666666666666666,
              "#ed7953"
             ],
             [
              0.7777777777777778,
              "#fb9f3a"
             ],
             [
              0.8888888888888888,
              "#fdca26"
             ],
             [
              1,
              "#f0f921"
             ]
            ],
            "type": "histogram2d"
           }
          ],
          "histogram2dcontour": [
           {
            "colorbar": {
             "outlinewidth": 0,
             "ticks": ""
            },
            "colorscale": [
             [
              0,
              "#0d0887"
             ],
             [
              0.1111111111111111,
              "#46039f"
             ],
             [
              0.2222222222222222,
              "#7201a8"
             ],
             [
              0.3333333333333333,
              "#9c179e"
             ],
             [
              0.4444444444444444,
              "#bd3786"
             ],
             [
              0.5555555555555556,
              "#d8576b"
             ],
             [
              0.6666666666666666,
              "#ed7953"
             ],
             [
              0.7777777777777778,
              "#fb9f3a"
             ],
             [
              0.8888888888888888,
              "#fdca26"
             ],
             [
              1,
              "#f0f921"
             ]
            ],
            "type": "histogram2dcontour"
           }
          ],
          "mesh3d": [
           {
            "colorbar": {
             "outlinewidth": 0,
             "ticks": ""
            },
            "type": "mesh3d"
           }
          ],
          "parcoords": [
           {
            "line": {
             "colorbar": {
              "outlinewidth": 0,
              "ticks": ""
             }
            },
            "type": "parcoords"
           }
          ],
          "pie": [
           {
            "automargin": true,
            "type": "pie"
           }
          ],
          "scatter": [
           {
            "fillpattern": {
             "fillmode": "overlay",
             "size": 10,
             "solidity": 0.2
            },
            "type": "scatter"
           }
          ],
          "scatter3d": [
           {
            "line": {
             "colorbar": {
              "outlinewidth": 0,
              "ticks": ""
             }
            },
            "marker": {
             "colorbar": {
              "outlinewidth": 0,
              "ticks": ""
             }
            },
            "type": "scatter3d"
           }
          ],
          "scattercarpet": [
           {
            "marker": {
             "colorbar": {
              "outlinewidth": 0,
              "ticks": ""
             }
            },
            "type": "scattercarpet"
           }
          ],
          "scattergeo": [
           {
            "marker": {
             "colorbar": {
              "outlinewidth": 0,
              "ticks": ""
             }
            },
            "type": "scattergeo"
           }
          ],
          "scattergl": [
           {
            "marker": {
             "colorbar": {
              "outlinewidth": 0,
              "ticks": ""
             }
            },
            "type": "scattergl"
           }
          ],
          "scattermap": [
           {
            "marker": {
             "colorbar": {
              "outlinewidth": 0,
              "ticks": ""
             }
            },
            "type": "scattermap"
           }
          ],
          "scattermapbox": [
           {
            "marker": {
             "colorbar": {
              "outlinewidth": 0,
              "ticks": ""
             }
            },
            "type": "scattermapbox"
           }
          ],
          "scatterpolar": [
           {
            "marker": {
             "colorbar": {
              "outlinewidth": 0,
              "ticks": ""
             }
            },
            "type": "scatterpolar"
           }
          ],
          "scatterpolargl": [
           {
            "marker": {
             "colorbar": {
              "outlinewidth": 0,
              "ticks": ""
             }
            },
            "type": "scatterpolargl"
           }
          ],
          "scatterternary": [
           {
            "marker": {
             "colorbar": {
              "outlinewidth": 0,
              "ticks": ""
             }
            },
            "type": "scatterternary"
           }
          ],
          "surface": [
           {
            "colorbar": {
             "outlinewidth": 0,
             "ticks": ""
            },
            "colorscale": [
             [
              0,
              "#0d0887"
             ],
             [
              0.1111111111111111,
              "#46039f"
             ],
             [
              0.2222222222222222,
              "#7201a8"
             ],
             [
              0.3333333333333333,
              "#9c179e"
             ],
             [
              0.4444444444444444,
              "#bd3786"
             ],
             [
              0.5555555555555556,
              "#d8576b"
             ],
             [
              0.6666666666666666,
              "#ed7953"
             ],
             [
              0.7777777777777778,
              "#fb9f3a"
             ],
             [
              0.8888888888888888,
              "#fdca26"
             ],
             [
              1,
              "#f0f921"
             ]
            ],
            "type": "surface"
           }
          ],
          "table": [
           {
            "cells": {
             "fill": {
              "color": "#EBF0F8"
             },
             "line": {
              "color": "white"
             }
            },
            "header": {
             "fill": {
              "color": "#C8D4E3"
             },
             "line": {
              "color": "white"
             }
            },
            "type": "table"
           }
          ]
         },
         "layout": {
          "annotationdefaults": {
           "arrowcolor": "#2a3f5f",
           "arrowhead": 0,
           "arrowwidth": 1
          },
          "autotypenumbers": "strict",
          "coloraxis": {
           "colorbar": {
            "outlinewidth": 0,
            "ticks": ""
           }
          },
          "colorscale": {
           "diverging": [
            [
             0,
             "#8e0152"
            ],
            [
             0.1,
             "#c51b7d"
            ],
            [
             0.2,
             "#de77ae"
            ],
            [
             0.3,
             "#f1b6da"
            ],
            [
             0.4,
             "#fde0ef"
            ],
            [
             0.5,
             "#f7f7f7"
            ],
            [
             0.6,
             "#e6f5d0"
            ],
            [
             0.7,
             "#b8e186"
            ],
            [
             0.8,
             "#7fbc41"
            ],
            [
             0.9,
             "#4d9221"
            ],
            [
             1,
             "#276419"
            ]
           ],
           "sequential": [
            [
             0,
             "#0d0887"
            ],
            [
             0.1111111111111111,
             "#46039f"
            ],
            [
             0.2222222222222222,
             "#7201a8"
            ],
            [
             0.3333333333333333,
             "#9c179e"
            ],
            [
             0.4444444444444444,
             "#bd3786"
            ],
            [
             0.5555555555555556,
             "#d8576b"
            ],
            [
             0.6666666666666666,
             "#ed7953"
            ],
            [
             0.7777777777777778,
             "#fb9f3a"
            ],
            [
             0.8888888888888888,
             "#fdca26"
            ],
            [
             1,
             "#f0f921"
            ]
           ],
           "sequentialminus": [
            [
             0,
             "#0d0887"
            ],
            [
             0.1111111111111111,
             "#46039f"
            ],
            [
             0.2222222222222222,
             "#7201a8"
            ],
            [
             0.3333333333333333,
             "#9c179e"
            ],
            [
             0.4444444444444444,
             "#bd3786"
            ],
            [
             0.5555555555555556,
             "#d8576b"
            ],
            [
             0.6666666666666666,
             "#ed7953"
            ],
            [
             0.7777777777777778,
             "#fb9f3a"
            ],
            [
             0.8888888888888888,
             "#fdca26"
            ],
            [
             1,
             "#f0f921"
            ]
           ]
          },
          "colorway": [
           "#636efa",
           "#EF553B",
           "#00cc96",
           "#ab63fa",
           "#FFA15A",
           "#19d3f3",
           "#FF6692",
           "#B6E880",
           "#FF97FF",
           "#FECB52"
          ],
          "font": {
           "color": "#2a3f5f"
          },
          "geo": {
           "bgcolor": "white",
           "lakecolor": "white",
           "landcolor": "#E5ECF6",
           "showlakes": true,
           "showland": true,
           "subunitcolor": "white"
          },
          "hoverlabel": {
           "align": "left"
          },
          "hovermode": "closest",
          "mapbox": {
           "style": "light"
          },
          "paper_bgcolor": "white",
          "plot_bgcolor": "#E5ECF6",
          "polar": {
           "angularaxis": {
            "gridcolor": "white",
            "linecolor": "white",
            "ticks": ""
           },
           "bgcolor": "#E5ECF6",
           "radialaxis": {
            "gridcolor": "white",
            "linecolor": "white",
            "ticks": ""
           }
          },
          "scene": {
           "xaxis": {
            "backgroundcolor": "#E5ECF6",
            "gridcolor": "white",
            "gridwidth": 2,
            "linecolor": "white",
            "showbackground": true,
            "ticks": "",
            "zerolinecolor": "white"
           },
           "yaxis": {
            "backgroundcolor": "#E5ECF6",
            "gridcolor": "white",
            "gridwidth": 2,
            "linecolor": "white",
            "showbackground": true,
            "ticks": "",
            "zerolinecolor": "white"
           },
           "zaxis": {
            "backgroundcolor": "#E5ECF6",
            "gridcolor": "white",
            "gridwidth": 2,
            "linecolor": "white",
            "showbackground": true,
            "ticks": "",
            "zerolinecolor": "white"
           }
          },
          "shapedefaults": {
           "line": {
            "color": "#2a3f5f"
           }
          },
          "ternary": {
           "aaxis": {
            "gridcolor": "white",
            "linecolor": "white",
            "ticks": ""
           },
           "baxis": {
            "gridcolor": "white",
            "linecolor": "white",
            "ticks": ""
           },
           "bgcolor": "#E5ECF6",
           "caxis": {
            "gridcolor": "white",
            "linecolor": "white",
            "ticks": ""
           }
          },
          "title": {
           "x": 0.05
          },
          "xaxis": {
           "automargin": true,
           "gridcolor": "white",
           "linecolor": "white",
           "ticks": "",
           "title": {
            "standoff": 15
           },
           "zerolinecolor": "white",
           "zerolinewidth": 2
          },
          "yaxis": {
           "automargin": true,
           "gridcolor": "white",
           "linecolor": "white",
           "ticks": "",
           "title": {
            "standoff": 15
           },
           "zerolinecolor": "white",
           "zerolinewidth": 2
          }
         }
        },
        "title": {
         "text": "Number of Steps Over Time"
        },
        "xaxis": {
         "anchor": "y",
         "domain": [
          0,
          1
         ],
         "title": {
          "text": "date"
         }
        },
        "yaxis": {
         "anchor": "x",
         "domain": [
          0,
          1
         ],
         "title": {
          "text": "steps"
         }
        }
       }
      }
     },
     "metadata": {},
     "output_type": "display_data"
    }
   ],
   "source": [
    "fig = px.line(fitness_data, x='date', y='steps', title='Number of Steps Over Time', markers=True)\n",
    "fig.update_traces(marker=dict(color=fitness_data['is_weekend'].map({True: 'red', False: 'blue'})))\n",
    "fig.show()"
   ]
  },
  {
   "cell_type": "markdown",
   "metadata": {},
   "source": [
    "Create a histogram of the calories burnt."
   ]
  },
  {
   "cell_type": "code",
   "execution_count": 43,
   "metadata": {},
   "outputs": [
    {
     "data": {
      "application/vnd.plotly.v1+json": {
       "config": {
        "plotlyServerURL": "https://plot.ly"
       },
       "data": [
        {
         "bingroup": "x",
         "hovertemplate": "total_calories_burned=%{x}<br>count=%{y}<extra></extra>",
         "legendgroup": "",
         "marker": {
          "color": "#636efa",
          "pattern": {
           "shape": ""
          }
         },
         "name": "",
         "orientation": "v",
         "showlegend": false,
         "type": "histogram",
         "x": {
          "bdata": "AAAAAADAhEAAAAAAAKCEQAAAAAAASItAAAAAAABkkUAAAAAAALCIQAAAAAAA4IVAAAAAAABwf0AAAAAAAGCEQAAAAAAAsI9AAAAAAABghUAAAAAAAIiCQAAAAAAAiItAAAAAAABwjEAAAAAAAIiHQAAAAAAAgIJAAAAAAACIkUAAAAAAACCHQAAAAAAAmItAAAAAAAB4gkAAAAAAAIiLQAAAAAAAMIFAAAAAAACwiEAAAAAAANCIQAAAAAAA0IJAAAAAAABAjEAAAAAAAJCQQAAAAAAAaJBAAAAAAABojUAAAAAAALCIQAAAAAAAcHpAAAAAAACghUAAAAAAAPCGQAAAAAAA4IdAAAAAAADIkkAAAAAAABiJQAAAAAAA0IZAAAAAAAAoiEAAAAAAANiBQAAAAAAAaIRAAAAAAAAEkkAAAAAAAIiUQAAAAAAA4IpAAAAAAAAgjkAAAAAAAMCHQAAAAAAASIFAAAAAAACYgEAAAAAAABiQQAAAAAAAUI9AAAAAAAB4jUAAAAAAADCDQAAAAAAAeIdAAAAAAACAjEAAAAAAAPCGQAAAAAAAsIpAAAAAAACAjUAAAAAAAEiLQAAAAAAAaIlAAAAAAACQhkAAAAAAABB5QAAAAAAAAIVAAAAAAAA8k0AAAAAAAPiSQAAAAAAA8ItAAAAAAAAQj0AAAAAAADCNQAAAAAAA0ItAAAAAAACQgkAAAAAAABCDQAAAAAAACIpAAAAAAADogUAAAAAAAHiHQAAAAAAAEIpAAAAAAAAIiUAAAAAAAHiDQAAAAAAAUJRAAAAAAABYjkAAAAAAACiMQAAAAAAA5JBAAAAAAABAhkAAAAAAAFCJQAAAAAAAwIlAAAAAAADQiEAAAAAAADiRQAAAAAAAUItAAAAAAACQhkAAAAAAAICHQAAAAAAAoIFAAAAAAABYjkAAAAAAAAiUQAAAAAAAuI1AAAAAAAC4g0AAAAAAADiHQAAAAAAAWIpAAAAAAADghUAAAAAAAJCMQAAAAAAAeJBAAAAAAACUmEAAAAAAAGCOQAAAAAAAoItAAAAAAACAiEAAAAAAAMCEQAAAAAAA8HJAAAAAAAAQiUAAAAAAAACXQAAAAAAAPJFAAAAAAAD4j0AAAAAAAKiEQAAAAAAA8IpAAAAAAAB4jEAAAAAAAMiHQAAAAAAAQJBAAAAAAACQi0AAAAAAAECHQAAAAAAA0IhAAAAAAAA8kUAAAAAAAECGQAAAAAAAKJJAAAAAAACghkAAAAAAAPCLQAAAAAAAiIZAAAAAAAAAj0AAAAAAANiLQAAAAAAAuIhAAAAAAABwk0AAAAAAALyVQAAAAAAAMINAAAAAAACogEAAAAAAAJCKQAAAAAAA0JFAAAAAAADgf0AAAAAAAAyRQAAAAAAAlJNAAAAAAADgikAAAAAAAFCFQAAAAAAAgJFAAAAAAABokUAAAAAAAHCCQAAAAAAACI9AAAAAAAAYjUAAAAAAAPiJQAAAAAAA+IBAAAAAAADgj0AAAAAAAJiAQAAAAAAASIZAAAAAAABgk0AAAAAAANSUQAAAAAAAYI5AAAAAAADogUAAAAAAAMCCQAAAAAAAWIVAAAAAAACckEAAAAAAADiHQAAAAAAASIpAAAAAAABQiUAAAAAAAMCOQAAAAAAAYI5AAAAAAACslEAAAAAAAGiQQAAAAAAAIHxAAAAAAABghEAAAAAAADCRQAAAAAAAeJBAAAAAAADwd0AAAAAAADiGQAAAAAAAqI9AAAAAAADAiEAAAAAAAPiKQAAAAAAAIIhAAAAAAAAojUAAAAAAAHCTQAAAAAAAMItAAAAAAACYi0AAAAAAAFCEQAAAAAAAdJJAAAAAAABAhkAAAAAAAFCLQAAAAAAAUItAAAAAAAAgjEAAAAAAAICIQA==",
          "dtype": "f8"
         },
         "xaxis": "x",
         "yaxis": "y"
        }
       ],
       "layout": {
        "barmode": "relative",
        "legend": {
         "tracegroupgap": 0
        },
        "template": {
         "data": {
          "bar": [
           {
            "error_x": {
             "color": "#2a3f5f"
            },
            "error_y": {
             "color": "#2a3f5f"
            },
            "marker": {
             "line": {
              "color": "#E5ECF6",
              "width": 0.5
             },
             "pattern": {
              "fillmode": "overlay",
              "size": 10,
              "solidity": 0.2
             }
            },
            "type": "bar"
           }
          ],
          "barpolar": [
           {
            "marker": {
             "line": {
              "color": "#E5ECF6",
              "width": 0.5
             },
             "pattern": {
              "fillmode": "overlay",
              "size": 10,
              "solidity": 0.2
             }
            },
            "type": "barpolar"
           }
          ],
          "carpet": [
           {
            "aaxis": {
             "endlinecolor": "#2a3f5f",
             "gridcolor": "white",
             "linecolor": "white",
             "minorgridcolor": "white",
             "startlinecolor": "#2a3f5f"
            },
            "baxis": {
             "endlinecolor": "#2a3f5f",
             "gridcolor": "white",
             "linecolor": "white",
             "minorgridcolor": "white",
             "startlinecolor": "#2a3f5f"
            },
            "type": "carpet"
           }
          ],
          "choropleth": [
           {
            "colorbar": {
             "outlinewidth": 0,
             "ticks": ""
            },
            "type": "choropleth"
           }
          ],
          "contour": [
           {
            "colorbar": {
             "outlinewidth": 0,
             "ticks": ""
            },
            "colorscale": [
             [
              0,
              "#0d0887"
             ],
             [
              0.1111111111111111,
              "#46039f"
             ],
             [
              0.2222222222222222,
              "#7201a8"
             ],
             [
              0.3333333333333333,
              "#9c179e"
             ],
             [
              0.4444444444444444,
              "#bd3786"
             ],
             [
              0.5555555555555556,
              "#d8576b"
             ],
             [
              0.6666666666666666,
              "#ed7953"
             ],
             [
              0.7777777777777778,
              "#fb9f3a"
             ],
             [
              0.8888888888888888,
              "#fdca26"
             ],
             [
              1,
              "#f0f921"
             ]
            ],
            "type": "contour"
           }
          ],
          "contourcarpet": [
           {
            "colorbar": {
             "outlinewidth": 0,
             "ticks": ""
            },
            "type": "contourcarpet"
           }
          ],
          "heatmap": [
           {
            "colorbar": {
             "outlinewidth": 0,
             "ticks": ""
            },
            "colorscale": [
             [
              0,
              "#0d0887"
             ],
             [
              0.1111111111111111,
              "#46039f"
             ],
             [
              0.2222222222222222,
              "#7201a8"
             ],
             [
              0.3333333333333333,
              "#9c179e"
             ],
             [
              0.4444444444444444,
              "#bd3786"
             ],
             [
              0.5555555555555556,
              "#d8576b"
             ],
             [
              0.6666666666666666,
              "#ed7953"
             ],
             [
              0.7777777777777778,
              "#fb9f3a"
             ],
             [
              0.8888888888888888,
              "#fdca26"
             ],
             [
              1,
              "#f0f921"
             ]
            ],
            "type": "heatmap"
           }
          ],
          "histogram": [
           {
            "marker": {
             "pattern": {
              "fillmode": "overlay",
              "size": 10,
              "solidity": 0.2
             }
            },
            "type": "histogram"
           }
          ],
          "histogram2d": [
           {
            "colorbar": {
             "outlinewidth": 0,
             "ticks": ""
            },
            "colorscale": [
             [
              0,
              "#0d0887"
             ],
             [
              0.1111111111111111,
              "#46039f"
             ],
             [
              0.2222222222222222,
              "#7201a8"
             ],
             [
              0.3333333333333333,
              "#9c179e"
             ],
             [
              0.4444444444444444,
              "#bd3786"
             ],
             [
              0.5555555555555556,
              "#d8576b"
             ],
             [
              0.6666666666666666,
              "#ed7953"
             ],
             [
              0.7777777777777778,
              "#fb9f3a"
             ],
             [
              0.8888888888888888,
              "#fdca26"
             ],
             [
              1,
              "#f0f921"
             ]
            ],
            "type": "histogram2d"
           }
          ],
          "histogram2dcontour": [
           {
            "colorbar": {
             "outlinewidth": 0,
             "ticks": ""
            },
            "colorscale": [
             [
              0,
              "#0d0887"
             ],
             [
              0.1111111111111111,
              "#46039f"
             ],
             [
              0.2222222222222222,
              "#7201a8"
             ],
             [
              0.3333333333333333,
              "#9c179e"
             ],
             [
              0.4444444444444444,
              "#bd3786"
             ],
             [
              0.5555555555555556,
              "#d8576b"
             ],
             [
              0.6666666666666666,
              "#ed7953"
             ],
             [
              0.7777777777777778,
              "#fb9f3a"
             ],
             [
              0.8888888888888888,
              "#fdca26"
             ],
             [
              1,
              "#f0f921"
             ]
            ],
            "type": "histogram2dcontour"
           }
          ],
          "mesh3d": [
           {
            "colorbar": {
             "outlinewidth": 0,
             "ticks": ""
            },
            "type": "mesh3d"
           }
          ],
          "parcoords": [
           {
            "line": {
             "colorbar": {
              "outlinewidth": 0,
              "ticks": ""
             }
            },
            "type": "parcoords"
           }
          ],
          "pie": [
           {
            "automargin": true,
            "type": "pie"
           }
          ],
          "scatter": [
           {
            "fillpattern": {
             "fillmode": "overlay",
             "size": 10,
             "solidity": 0.2
            },
            "type": "scatter"
           }
          ],
          "scatter3d": [
           {
            "line": {
             "colorbar": {
              "outlinewidth": 0,
              "ticks": ""
             }
            },
            "marker": {
             "colorbar": {
              "outlinewidth": 0,
              "ticks": ""
             }
            },
            "type": "scatter3d"
           }
          ],
          "scattercarpet": [
           {
            "marker": {
             "colorbar": {
              "outlinewidth": 0,
              "ticks": ""
             }
            },
            "type": "scattercarpet"
           }
          ],
          "scattergeo": [
           {
            "marker": {
             "colorbar": {
              "outlinewidth": 0,
              "ticks": ""
             }
            },
            "type": "scattergeo"
           }
          ],
          "scattergl": [
           {
            "marker": {
             "colorbar": {
              "outlinewidth": 0,
              "ticks": ""
             }
            },
            "type": "scattergl"
           }
          ],
          "scattermap": [
           {
            "marker": {
             "colorbar": {
              "outlinewidth": 0,
              "ticks": ""
             }
            },
            "type": "scattermap"
           }
          ],
          "scattermapbox": [
           {
            "marker": {
             "colorbar": {
              "outlinewidth": 0,
              "ticks": ""
             }
            },
            "type": "scattermapbox"
           }
          ],
          "scatterpolar": [
           {
            "marker": {
             "colorbar": {
              "outlinewidth": 0,
              "ticks": ""
             }
            },
            "type": "scatterpolar"
           }
          ],
          "scatterpolargl": [
           {
            "marker": {
             "colorbar": {
              "outlinewidth": 0,
              "ticks": ""
             }
            },
            "type": "scatterpolargl"
           }
          ],
          "scatterternary": [
           {
            "marker": {
             "colorbar": {
              "outlinewidth": 0,
              "ticks": ""
             }
            },
            "type": "scatterternary"
           }
          ],
          "surface": [
           {
            "colorbar": {
             "outlinewidth": 0,
             "ticks": ""
            },
            "colorscale": [
             [
              0,
              "#0d0887"
             ],
             [
              0.1111111111111111,
              "#46039f"
             ],
             [
              0.2222222222222222,
              "#7201a8"
             ],
             [
              0.3333333333333333,
              "#9c179e"
             ],
             [
              0.4444444444444444,
              "#bd3786"
             ],
             [
              0.5555555555555556,
              "#d8576b"
             ],
             [
              0.6666666666666666,
              "#ed7953"
             ],
             [
              0.7777777777777778,
              "#fb9f3a"
             ],
             [
              0.8888888888888888,
              "#fdca26"
             ],
             [
              1,
              "#f0f921"
             ]
            ],
            "type": "surface"
           }
          ],
          "table": [
           {
            "cells": {
             "fill": {
              "color": "#EBF0F8"
             },
             "line": {
              "color": "white"
             }
            },
            "header": {
             "fill": {
              "color": "#C8D4E3"
             },
             "line": {
              "color": "white"
             }
            },
            "type": "table"
           }
          ]
         },
         "layout": {
          "annotationdefaults": {
           "arrowcolor": "#2a3f5f",
           "arrowhead": 0,
           "arrowwidth": 1
          },
          "autotypenumbers": "strict",
          "coloraxis": {
           "colorbar": {
            "outlinewidth": 0,
            "ticks": ""
           }
          },
          "colorscale": {
           "diverging": [
            [
             0,
             "#8e0152"
            ],
            [
             0.1,
             "#c51b7d"
            ],
            [
             0.2,
             "#de77ae"
            ],
            [
             0.3,
             "#f1b6da"
            ],
            [
             0.4,
             "#fde0ef"
            ],
            [
             0.5,
             "#f7f7f7"
            ],
            [
             0.6,
             "#e6f5d0"
            ],
            [
             0.7,
             "#b8e186"
            ],
            [
             0.8,
             "#7fbc41"
            ],
            [
             0.9,
             "#4d9221"
            ],
            [
             1,
             "#276419"
            ]
           ],
           "sequential": [
            [
             0,
             "#0d0887"
            ],
            [
             0.1111111111111111,
             "#46039f"
            ],
            [
             0.2222222222222222,
             "#7201a8"
            ],
            [
             0.3333333333333333,
             "#9c179e"
            ],
            [
             0.4444444444444444,
             "#bd3786"
            ],
            [
             0.5555555555555556,
             "#d8576b"
            ],
            [
             0.6666666666666666,
             "#ed7953"
            ],
            [
             0.7777777777777778,
             "#fb9f3a"
            ],
            [
             0.8888888888888888,
             "#fdca26"
            ],
            [
             1,
             "#f0f921"
            ]
           ],
           "sequentialminus": [
            [
             0,
             "#0d0887"
            ],
            [
             0.1111111111111111,
             "#46039f"
            ],
            [
             0.2222222222222222,
             "#7201a8"
            ],
            [
             0.3333333333333333,
             "#9c179e"
            ],
            [
             0.4444444444444444,
             "#bd3786"
            ],
            [
             0.5555555555555556,
             "#d8576b"
            ],
            [
             0.6666666666666666,
             "#ed7953"
            ],
            [
             0.7777777777777778,
             "#fb9f3a"
            ],
            [
             0.8888888888888888,
             "#fdca26"
            ],
            [
             1,
             "#f0f921"
            ]
           ]
          },
          "colorway": [
           "#636efa",
           "#EF553B",
           "#00cc96",
           "#ab63fa",
           "#FFA15A",
           "#19d3f3",
           "#FF6692",
           "#B6E880",
           "#FF97FF",
           "#FECB52"
          ],
          "font": {
           "color": "#2a3f5f"
          },
          "geo": {
           "bgcolor": "white",
           "lakecolor": "white",
           "landcolor": "#E5ECF6",
           "showlakes": true,
           "showland": true,
           "subunitcolor": "white"
          },
          "hoverlabel": {
           "align": "left"
          },
          "hovermode": "closest",
          "mapbox": {
           "style": "light"
          },
          "paper_bgcolor": "white",
          "plot_bgcolor": "#E5ECF6",
          "polar": {
           "angularaxis": {
            "gridcolor": "white",
            "linecolor": "white",
            "ticks": ""
           },
           "bgcolor": "#E5ECF6",
           "radialaxis": {
            "gridcolor": "white",
            "linecolor": "white",
            "ticks": ""
           }
          },
          "scene": {
           "xaxis": {
            "backgroundcolor": "#E5ECF6",
            "gridcolor": "white",
            "gridwidth": 2,
            "linecolor": "white",
            "showbackground": true,
            "ticks": "",
            "zerolinecolor": "white"
           },
           "yaxis": {
            "backgroundcolor": "#E5ECF6",
            "gridcolor": "white",
            "gridwidth": 2,
            "linecolor": "white",
            "showbackground": true,
            "ticks": "",
            "zerolinecolor": "white"
           },
           "zaxis": {
            "backgroundcolor": "#E5ECF6",
            "gridcolor": "white",
            "gridwidth": 2,
            "linecolor": "white",
            "showbackground": true,
            "ticks": "",
            "zerolinecolor": "white"
           }
          },
          "shapedefaults": {
           "line": {
            "color": "#2a3f5f"
           }
          },
          "ternary": {
           "aaxis": {
            "gridcolor": "white",
            "linecolor": "white",
            "ticks": ""
           },
           "baxis": {
            "gridcolor": "white",
            "linecolor": "white",
            "ticks": ""
           },
           "bgcolor": "#E5ECF6",
           "caxis": {
            "gridcolor": "white",
            "linecolor": "white",
            "ticks": ""
           }
          },
          "title": {
           "x": 0.05
          },
          "xaxis": {
           "automargin": true,
           "gridcolor": "white",
           "linecolor": "white",
           "ticks": "",
           "title": {
            "standoff": 15
           },
           "zerolinecolor": "white",
           "zerolinewidth": 2
          },
          "yaxis": {
           "automargin": true,
           "gridcolor": "white",
           "linecolor": "white",
           "ticks": "",
           "title": {
            "standoff": 15
           },
           "zerolinecolor": "white",
           "zerolinewidth": 2
          }
         }
        },
        "title": {
         "text": "Distribution of Total Calories Burned"
        },
        "xaxis": {
         "anchor": "y",
         "domain": [
          0,
          1
         ],
         "title": {
          "text": "Total Calories Burned (kcal)"
         }
        },
        "yaxis": {
         "anchor": "x",
         "domain": [
          0,
          1
         ],
         "title": {
          "text": "count"
         }
        }
       }
      }
     },
     "metadata": {},
     "output_type": "display_data"
    }
   ],
   "source": [
    "fig = px.histogram(fitness_data, x='total_calories_burned', title='Distribution of Total Calories Burned')\n",
    "fig.update_layout(xaxis_title='Total Calories Burned (kcal)')\n",
    "fig.show()"
   ]
  },
  {
   "cell_type": "markdown",
   "metadata": {},
   "source": [
    "Create a line chart of calories burned over time."
   ]
  },
  {
   "cell_type": "code",
   "execution_count": 44,
   "metadata": {},
   "outputs": [
    {
     "data": {
      "application/vnd.plotly.v1+json": {
       "config": {
        "plotlyServerURL": "https://plot.ly"
       },
       "data": [
        {
         "hovertemplate": "date=%{x}<br>total_calories_burned=%{y}<extra></extra>",
         "legendgroup": "",
         "line": {
          "color": "#636efa",
          "dash": "solid"
         },
         "marker": {
          "symbol": "circle"
         },
         "mode": "lines",
         "name": "",
         "orientation": "v",
         "showlegend": false,
         "type": "scatter",
         "x": [
          "2024-07-01T00:00:00.000000000",
          "2024-07-02T00:00:00.000000000",
          "2024-07-03T00:00:00.000000000",
          "2024-07-04T00:00:00.000000000",
          "2024-07-05T00:00:00.000000000",
          "2024-07-06T00:00:00.000000000",
          "2024-07-07T00:00:00.000000000",
          "2024-07-08T00:00:00.000000000",
          "2024-07-09T00:00:00.000000000",
          "2024-07-10T00:00:00.000000000",
          "2024-07-11T00:00:00.000000000",
          "2024-07-12T00:00:00.000000000",
          "2024-07-13T00:00:00.000000000",
          "2024-07-14T00:00:00.000000000",
          "2024-07-15T00:00:00.000000000",
          "2024-07-16T00:00:00.000000000",
          "2024-07-17T00:00:00.000000000",
          "2024-07-18T00:00:00.000000000",
          "2024-07-19T00:00:00.000000000",
          "2024-07-20T00:00:00.000000000",
          "2024-07-21T00:00:00.000000000",
          "2024-07-22T00:00:00.000000000",
          "2024-07-23T00:00:00.000000000",
          "2024-07-24T00:00:00.000000000",
          "2024-07-25T00:00:00.000000000",
          "2024-07-26T00:00:00.000000000",
          "2024-07-27T00:00:00.000000000",
          "2024-07-28T00:00:00.000000000",
          "2024-07-29T00:00:00.000000000",
          "2024-07-30T00:00:00.000000000",
          "2024-07-31T00:00:00.000000000",
          "2024-08-01T00:00:00.000000000",
          "2024-08-02T00:00:00.000000000",
          "2024-08-03T00:00:00.000000000",
          "2024-08-04T00:00:00.000000000",
          "2024-08-05T00:00:00.000000000",
          "2024-08-06T00:00:00.000000000",
          "2024-08-07T00:00:00.000000000",
          "2024-08-08T00:00:00.000000000",
          "2024-08-09T00:00:00.000000000",
          "2024-08-10T00:00:00.000000000",
          "2024-08-11T00:00:00.000000000",
          "2024-08-12T00:00:00.000000000",
          "2024-08-13T00:00:00.000000000",
          "2024-08-14T00:00:00.000000000",
          "2024-08-15T00:00:00.000000000",
          "2024-08-16T00:00:00.000000000",
          "2024-08-17T00:00:00.000000000",
          "2024-08-18T00:00:00.000000000",
          "2024-08-19T00:00:00.000000000",
          "2024-08-20T00:00:00.000000000",
          "2024-08-21T00:00:00.000000000",
          "2024-08-22T00:00:00.000000000",
          "2024-08-23T00:00:00.000000000",
          "2024-08-24T00:00:00.000000000",
          "2024-08-25T00:00:00.000000000",
          "2024-08-26T00:00:00.000000000",
          "2024-08-27T00:00:00.000000000",
          "2024-08-28T00:00:00.000000000",
          "2024-08-29T00:00:00.000000000",
          "2024-08-30T00:00:00.000000000",
          "2024-08-31T00:00:00.000000000",
          "2024-09-01T00:00:00.000000000",
          "2024-09-02T00:00:00.000000000",
          "2024-09-03T00:00:00.000000000",
          "2024-09-04T00:00:00.000000000",
          "2024-09-05T00:00:00.000000000",
          "2024-09-06T00:00:00.000000000",
          "2024-09-07T00:00:00.000000000",
          "2024-09-08T00:00:00.000000000",
          "2024-09-09T00:00:00.000000000",
          "2024-09-10T00:00:00.000000000",
          "2024-09-11T00:00:00.000000000",
          "2024-09-12T00:00:00.000000000",
          "2024-09-13T00:00:00.000000000",
          "2024-09-14T00:00:00.000000000",
          "2024-09-15T00:00:00.000000000",
          "2024-09-16T00:00:00.000000000",
          "2024-09-17T00:00:00.000000000",
          "2024-09-18T00:00:00.000000000",
          "2024-09-19T00:00:00.000000000",
          "2024-09-20T00:00:00.000000000",
          "2024-09-21T00:00:00.000000000",
          "2024-09-22T00:00:00.000000000",
          "2024-09-23T00:00:00.000000000",
          "2024-09-24T00:00:00.000000000",
          "2024-09-25T00:00:00.000000000",
          "2024-09-26T00:00:00.000000000",
          "2024-09-27T00:00:00.000000000",
          "2024-09-28T00:00:00.000000000",
          "2024-09-29T00:00:00.000000000",
          "2024-09-30T00:00:00.000000000",
          "2024-10-01T00:00:00.000000000",
          "2024-10-02T00:00:00.000000000",
          "2024-10-03T00:00:00.000000000",
          "2024-10-04T00:00:00.000000000",
          "2024-10-05T00:00:00.000000000",
          "2024-10-06T00:00:00.000000000",
          "2024-10-07T00:00:00.000000000",
          "2024-10-08T00:00:00.000000000",
          "2024-10-09T00:00:00.000000000",
          "2024-10-10T00:00:00.000000000",
          "2024-10-11T00:00:00.000000000",
          "2024-10-12T00:00:00.000000000",
          "2024-10-13T00:00:00.000000000",
          "2024-10-14T00:00:00.000000000",
          "2024-10-15T00:00:00.000000000",
          "2024-10-16T00:00:00.000000000",
          "2024-10-17T00:00:00.000000000",
          "2024-10-18T00:00:00.000000000",
          "2024-10-19T00:00:00.000000000",
          "2024-10-20T00:00:00.000000000",
          "2024-10-21T00:00:00.000000000",
          "2024-10-22T00:00:00.000000000",
          "2024-10-23T00:00:00.000000000",
          "2024-10-24T00:00:00.000000000",
          "2024-10-25T00:00:00.000000000",
          "2024-10-26T00:00:00.000000000",
          "2024-10-27T00:00:00.000000000",
          "2024-10-28T00:00:00.000000000",
          "2024-10-29T00:00:00.000000000",
          "2024-10-30T00:00:00.000000000",
          "2024-10-31T00:00:00.000000000",
          "2024-11-01T00:00:00.000000000",
          "2024-11-02T00:00:00.000000000",
          "2024-11-03T00:00:00.000000000",
          "2024-11-04T00:00:00.000000000",
          "2024-11-05T00:00:00.000000000",
          "2024-11-06T00:00:00.000000000",
          "2024-11-07T00:00:00.000000000",
          "2024-11-08T00:00:00.000000000",
          "2024-11-09T00:00:00.000000000",
          "2024-11-10T00:00:00.000000000",
          "2024-11-11T00:00:00.000000000",
          "2024-11-12T00:00:00.000000000",
          "2024-11-13T00:00:00.000000000",
          "2024-11-14T00:00:00.000000000",
          "2024-11-15T00:00:00.000000000",
          "2024-11-16T00:00:00.000000000",
          "2024-11-17T00:00:00.000000000",
          "2024-11-18T00:00:00.000000000",
          "2024-11-19T00:00:00.000000000",
          "2024-11-20T00:00:00.000000000",
          "2024-11-21T00:00:00.000000000",
          "2024-11-22T00:00:00.000000000",
          "2024-11-23T00:00:00.000000000",
          "2024-11-24T00:00:00.000000000",
          "2024-11-25T00:00:00.000000000",
          "2024-11-26T00:00:00.000000000",
          "2024-11-27T00:00:00.000000000",
          "2024-12-01T00:00:00.000000000",
          "2024-12-02T00:00:00.000000000",
          "2024-12-03T00:00:00.000000000",
          "2024-12-04T00:00:00.000000000",
          "2024-12-05T00:00:00.000000000",
          "2024-12-06T00:00:00.000000000",
          "2024-12-07T00:00:00.000000000",
          "2024-12-08T00:00:00.000000000",
          "2024-12-09T00:00:00.000000000",
          "2024-12-10T00:00:00.000000000",
          "2024-12-11T00:00:00.000000000",
          "2024-12-12T00:00:00.000000000",
          "2024-12-13T00:00:00.000000000",
          "2024-12-14T00:00:00.000000000",
          "2024-12-15T00:00:00.000000000",
          "2024-12-16T00:00:00.000000000",
          "2024-12-17T00:00:00.000000000",
          "2024-12-18T00:00:00.000000000",
          "2024-12-19T00:00:00.000000000",
          "2024-12-20T00:00:00.000000000",
          "2024-12-21T00:00:00.000000000",
          "2024-12-22T00:00:00.000000000",
          "2024-12-23T00:00:00.000000000",
          "2024-12-27T00:00:00.000000000",
          "2024-12-28T00:00:00.000000000",
          "2024-12-29T00:00:00.000000000",
          "2024-12-30T00:00:00.000000000",
          "2024-12-31T00:00:00.000000000",
          "2025-01-01T00:00:00.000000000"
         ],
         "xaxis": "x",
         "y": {
          "bdata": "AAAAAADAhEAAAAAAAKCEQAAAAAAASItAAAAAAABkkUAAAAAAALCIQAAAAAAA4IVAAAAAAABwf0AAAAAAAGCEQAAAAAAAsI9AAAAAAABghUAAAAAAAIiCQAAAAAAAiItAAAAAAABwjEAAAAAAAIiHQAAAAAAAgIJAAAAAAACIkUAAAAAAACCHQAAAAAAAmItAAAAAAAB4gkAAAAAAAIiLQAAAAAAAMIFAAAAAAACwiEAAAAAAANCIQAAAAAAA0IJAAAAAAABAjEAAAAAAAJCQQAAAAAAAaJBAAAAAAABojUAAAAAAALCIQAAAAAAAcHpAAAAAAACghUAAAAAAAPCGQAAAAAAA4IdAAAAAAADIkkAAAAAAABiJQAAAAAAA0IZAAAAAAAAoiEAAAAAAANiBQAAAAAAAaIRAAAAAAAAEkkAAAAAAAIiUQAAAAAAA4IpAAAAAAAAgjkAAAAAAAMCHQAAAAAAASIFAAAAAAACYgEAAAAAAABiQQAAAAAAAUI9AAAAAAAB4jUAAAAAAADCDQAAAAAAAeIdAAAAAAACAjEAAAAAAAPCGQAAAAAAAsIpAAAAAAACAjUAAAAAAAEiLQAAAAAAAaIlAAAAAAACQhkAAAAAAABB5QAAAAAAAAIVAAAAAAAA8k0AAAAAAAPiSQAAAAAAA8ItAAAAAAAAQj0AAAAAAADCNQAAAAAAA0ItAAAAAAACQgkAAAAAAABCDQAAAAAAACIpAAAAAAADogUAAAAAAAHiHQAAAAAAAEIpAAAAAAAAIiUAAAAAAAHiDQAAAAAAAUJRAAAAAAABYjkAAAAAAACiMQAAAAAAA5JBAAAAAAABAhkAAAAAAAFCJQAAAAAAAwIlAAAAAAADQiEAAAAAAADiRQAAAAAAAUItAAAAAAACQhkAAAAAAAICHQAAAAAAAoIFAAAAAAABYjkAAAAAAAAiUQAAAAAAAuI1AAAAAAAC4g0AAAAAAADiHQAAAAAAAWIpAAAAAAADghUAAAAAAAJCMQAAAAAAAeJBAAAAAAACUmEAAAAAAAGCOQAAAAAAAoItAAAAAAACAiEAAAAAAAMCEQAAAAAAA8HJAAAAAAAAQiUAAAAAAAACXQAAAAAAAPJFAAAAAAAD4j0AAAAAAAKiEQAAAAAAA8IpAAAAAAAB4jEAAAAAAAMiHQAAAAAAAQJBAAAAAAACQi0AAAAAAAECHQAAAAAAA0IhAAAAAAAA8kUAAAAAAAECGQAAAAAAAKJJAAAAAAACghkAAAAAAAPCLQAAAAAAAiIZAAAAAAAAAj0AAAAAAANiLQAAAAAAAuIhAAAAAAABwk0AAAAAAALyVQAAAAAAAMINAAAAAAACogEAAAAAAAJCKQAAAAAAA0JFAAAAAAADgf0AAAAAAAAyRQAAAAAAAlJNAAAAAAADgikAAAAAAAFCFQAAAAAAAgJFAAAAAAABokUAAAAAAAHCCQAAAAAAACI9AAAAAAAAYjUAAAAAAAPiJQAAAAAAA+IBAAAAAAADgj0AAAAAAAJiAQAAAAAAASIZAAAAAAABgk0AAAAAAANSUQAAAAAAAYI5AAAAAAADogUAAAAAAAMCCQAAAAAAAWIVAAAAAAACckEAAAAAAADiHQAAAAAAASIpAAAAAAABQiUAAAAAAAMCOQAAAAAAAYI5AAAAAAACslEAAAAAAAGiQQAAAAAAAIHxAAAAAAABghEAAAAAAADCRQAAAAAAAeJBAAAAAAADwd0AAAAAAADiGQAAAAAAAqI9AAAAAAADAiEAAAAAAAPiKQAAAAAAAIIhAAAAAAAAojUAAAAAAAHCTQAAAAAAAMItAAAAAAACYi0AAAAAAAFCEQAAAAAAAdJJAAAAAAABAhkAAAAAAAFCLQAAAAAAAUItAAAAAAAAgjEAAAAAAAICIQA==",
          "dtype": "f8"
         },
         "yaxis": "y"
        }
       ],
       "layout": {
        "legend": {
         "tracegroupgap": 0
        },
        "template": {
         "data": {
          "bar": [
           {
            "error_x": {
             "color": "#2a3f5f"
            },
            "error_y": {
             "color": "#2a3f5f"
            },
            "marker": {
             "line": {
              "color": "#E5ECF6",
              "width": 0.5
             },
             "pattern": {
              "fillmode": "overlay",
              "size": 10,
              "solidity": 0.2
             }
            },
            "type": "bar"
           }
          ],
          "barpolar": [
           {
            "marker": {
             "line": {
              "color": "#E5ECF6",
              "width": 0.5
             },
             "pattern": {
              "fillmode": "overlay",
              "size": 10,
              "solidity": 0.2
             }
            },
            "type": "barpolar"
           }
          ],
          "carpet": [
           {
            "aaxis": {
             "endlinecolor": "#2a3f5f",
             "gridcolor": "white",
             "linecolor": "white",
             "minorgridcolor": "white",
             "startlinecolor": "#2a3f5f"
            },
            "baxis": {
             "endlinecolor": "#2a3f5f",
             "gridcolor": "white",
             "linecolor": "white",
             "minorgridcolor": "white",
             "startlinecolor": "#2a3f5f"
            },
            "type": "carpet"
           }
          ],
          "choropleth": [
           {
            "colorbar": {
             "outlinewidth": 0,
             "ticks": ""
            },
            "type": "choropleth"
           }
          ],
          "contour": [
           {
            "colorbar": {
             "outlinewidth": 0,
             "ticks": ""
            },
            "colorscale": [
             [
              0,
              "#0d0887"
             ],
             [
              0.1111111111111111,
              "#46039f"
             ],
             [
              0.2222222222222222,
              "#7201a8"
             ],
             [
              0.3333333333333333,
              "#9c179e"
             ],
             [
              0.4444444444444444,
              "#bd3786"
             ],
             [
              0.5555555555555556,
              "#d8576b"
             ],
             [
              0.6666666666666666,
              "#ed7953"
             ],
             [
              0.7777777777777778,
              "#fb9f3a"
             ],
             [
              0.8888888888888888,
              "#fdca26"
             ],
             [
              1,
              "#f0f921"
             ]
            ],
            "type": "contour"
           }
          ],
          "contourcarpet": [
           {
            "colorbar": {
             "outlinewidth": 0,
             "ticks": ""
            },
            "type": "contourcarpet"
           }
          ],
          "heatmap": [
           {
            "colorbar": {
             "outlinewidth": 0,
             "ticks": ""
            },
            "colorscale": [
             [
              0,
              "#0d0887"
             ],
             [
              0.1111111111111111,
              "#46039f"
             ],
             [
              0.2222222222222222,
              "#7201a8"
             ],
             [
              0.3333333333333333,
              "#9c179e"
             ],
             [
              0.4444444444444444,
              "#bd3786"
             ],
             [
              0.5555555555555556,
              "#d8576b"
             ],
             [
              0.6666666666666666,
              "#ed7953"
             ],
             [
              0.7777777777777778,
              "#fb9f3a"
             ],
             [
              0.8888888888888888,
              "#fdca26"
             ],
             [
              1,
              "#f0f921"
             ]
            ],
            "type": "heatmap"
           }
          ],
          "histogram": [
           {
            "marker": {
             "pattern": {
              "fillmode": "overlay",
              "size": 10,
              "solidity": 0.2
             }
            },
            "type": "histogram"
           }
          ],
          "histogram2d": [
           {
            "colorbar": {
             "outlinewidth": 0,
             "ticks": ""
            },
            "colorscale": [
             [
              0,
              "#0d0887"
             ],
             [
              0.1111111111111111,
              "#46039f"
             ],
             [
              0.2222222222222222,
              "#7201a8"
             ],
             [
              0.3333333333333333,
              "#9c179e"
             ],
             [
              0.4444444444444444,
              "#bd3786"
             ],
             [
              0.5555555555555556,
              "#d8576b"
             ],
             [
              0.6666666666666666,
              "#ed7953"
             ],
             [
              0.7777777777777778,
              "#fb9f3a"
             ],
             [
              0.8888888888888888,
              "#fdca26"
             ],
             [
              1,
              "#f0f921"
             ]
            ],
            "type": "histogram2d"
           }
          ],
          "histogram2dcontour": [
           {
            "colorbar": {
             "outlinewidth": 0,
             "ticks": ""
            },
            "colorscale": [
             [
              0,
              "#0d0887"
             ],
             [
              0.1111111111111111,
              "#46039f"
             ],
             [
              0.2222222222222222,
              "#7201a8"
             ],
             [
              0.3333333333333333,
              "#9c179e"
             ],
             [
              0.4444444444444444,
              "#bd3786"
             ],
             [
              0.5555555555555556,
              "#d8576b"
             ],
             [
              0.6666666666666666,
              "#ed7953"
             ],
             [
              0.7777777777777778,
              "#fb9f3a"
             ],
             [
              0.8888888888888888,
              "#fdca26"
             ],
             [
              1,
              "#f0f921"
             ]
            ],
            "type": "histogram2dcontour"
           }
          ],
          "mesh3d": [
           {
            "colorbar": {
             "outlinewidth": 0,
             "ticks": ""
            },
            "type": "mesh3d"
           }
          ],
          "parcoords": [
           {
            "line": {
             "colorbar": {
              "outlinewidth": 0,
              "ticks": ""
             }
            },
            "type": "parcoords"
           }
          ],
          "pie": [
           {
            "automargin": true,
            "type": "pie"
           }
          ],
          "scatter": [
           {
            "fillpattern": {
             "fillmode": "overlay",
             "size": 10,
             "solidity": 0.2
            },
            "type": "scatter"
           }
          ],
          "scatter3d": [
           {
            "line": {
             "colorbar": {
              "outlinewidth": 0,
              "ticks": ""
             }
            },
            "marker": {
             "colorbar": {
              "outlinewidth": 0,
              "ticks": ""
             }
            },
            "type": "scatter3d"
           }
          ],
          "scattercarpet": [
           {
            "marker": {
             "colorbar": {
              "outlinewidth": 0,
              "ticks": ""
             }
            },
            "type": "scattercarpet"
           }
          ],
          "scattergeo": [
           {
            "marker": {
             "colorbar": {
              "outlinewidth": 0,
              "ticks": ""
             }
            },
            "type": "scattergeo"
           }
          ],
          "scattergl": [
           {
            "marker": {
             "colorbar": {
              "outlinewidth": 0,
              "ticks": ""
             }
            },
            "type": "scattergl"
           }
          ],
          "scattermap": [
           {
            "marker": {
             "colorbar": {
              "outlinewidth": 0,
              "ticks": ""
             }
            },
            "type": "scattermap"
           }
          ],
          "scattermapbox": [
           {
            "marker": {
             "colorbar": {
              "outlinewidth": 0,
              "ticks": ""
             }
            },
            "type": "scattermapbox"
           }
          ],
          "scatterpolar": [
           {
            "marker": {
             "colorbar": {
              "outlinewidth": 0,
              "ticks": ""
             }
            },
            "type": "scatterpolar"
           }
          ],
          "scatterpolargl": [
           {
            "marker": {
             "colorbar": {
              "outlinewidth": 0,
              "ticks": ""
             }
            },
            "type": "scatterpolargl"
           }
          ],
          "scatterternary": [
           {
            "marker": {
             "colorbar": {
              "outlinewidth": 0,
              "ticks": ""
             }
            },
            "type": "scatterternary"
           }
          ],
          "surface": [
           {
            "colorbar": {
             "outlinewidth": 0,
             "ticks": ""
            },
            "colorscale": [
             [
              0,
              "#0d0887"
             ],
             [
              0.1111111111111111,
              "#46039f"
             ],
             [
              0.2222222222222222,
              "#7201a8"
             ],
             [
              0.3333333333333333,
              "#9c179e"
             ],
             [
              0.4444444444444444,
              "#bd3786"
             ],
             [
              0.5555555555555556,
              "#d8576b"
             ],
             [
              0.6666666666666666,
              "#ed7953"
             ],
             [
              0.7777777777777778,
              "#fb9f3a"
             ],
             [
              0.8888888888888888,
              "#fdca26"
             ],
             [
              1,
              "#f0f921"
             ]
            ],
            "type": "surface"
           }
          ],
          "table": [
           {
            "cells": {
             "fill": {
              "color": "#EBF0F8"
             },
             "line": {
              "color": "white"
             }
            },
            "header": {
             "fill": {
              "color": "#C8D4E3"
             },
             "line": {
              "color": "white"
             }
            },
            "type": "table"
           }
          ]
         },
         "layout": {
          "annotationdefaults": {
           "arrowcolor": "#2a3f5f",
           "arrowhead": 0,
           "arrowwidth": 1
          },
          "autotypenumbers": "strict",
          "coloraxis": {
           "colorbar": {
            "outlinewidth": 0,
            "ticks": ""
           }
          },
          "colorscale": {
           "diverging": [
            [
             0,
             "#8e0152"
            ],
            [
             0.1,
             "#c51b7d"
            ],
            [
             0.2,
             "#de77ae"
            ],
            [
             0.3,
             "#f1b6da"
            ],
            [
             0.4,
             "#fde0ef"
            ],
            [
             0.5,
             "#f7f7f7"
            ],
            [
             0.6,
             "#e6f5d0"
            ],
            [
             0.7,
             "#b8e186"
            ],
            [
             0.8,
             "#7fbc41"
            ],
            [
             0.9,
             "#4d9221"
            ],
            [
             1,
             "#276419"
            ]
           ],
           "sequential": [
            [
             0,
             "#0d0887"
            ],
            [
             0.1111111111111111,
             "#46039f"
            ],
            [
             0.2222222222222222,
             "#7201a8"
            ],
            [
             0.3333333333333333,
             "#9c179e"
            ],
            [
             0.4444444444444444,
             "#bd3786"
            ],
            [
             0.5555555555555556,
             "#d8576b"
            ],
            [
             0.6666666666666666,
             "#ed7953"
            ],
            [
             0.7777777777777778,
             "#fb9f3a"
            ],
            [
             0.8888888888888888,
             "#fdca26"
            ],
            [
             1,
             "#f0f921"
            ]
           ],
           "sequentialminus": [
            [
             0,
             "#0d0887"
            ],
            [
             0.1111111111111111,
             "#46039f"
            ],
            [
             0.2222222222222222,
             "#7201a8"
            ],
            [
             0.3333333333333333,
             "#9c179e"
            ],
            [
             0.4444444444444444,
             "#bd3786"
            ],
            [
             0.5555555555555556,
             "#d8576b"
            ],
            [
             0.6666666666666666,
             "#ed7953"
            ],
            [
             0.7777777777777778,
             "#fb9f3a"
            ],
            [
             0.8888888888888888,
             "#fdca26"
            ],
            [
             1,
             "#f0f921"
            ]
           ]
          },
          "colorway": [
           "#636efa",
           "#EF553B",
           "#00cc96",
           "#ab63fa",
           "#FFA15A",
           "#19d3f3",
           "#FF6692",
           "#B6E880",
           "#FF97FF",
           "#FECB52"
          ],
          "font": {
           "color": "#2a3f5f"
          },
          "geo": {
           "bgcolor": "white",
           "lakecolor": "white",
           "landcolor": "#E5ECF6",
           "showlakes": true,
           "showland": true,
           "subunitcolor": "white"
          },
          "hoverlabel": {
           "align": "left"
          },
          "hovermode": "closest",
          "mapbox": {
           "style": "light"
          },
          "paper_bgcolor": "white",
          "plot_bgcolor": "#E5ECF6",
          "polar": {
           "angularaxis": {
            "gridcolor": "white",
            "linecolor": "white",
            "ticks": ""
           },
           "bgcolor": "#E5ECF6",
           "radialaxis": {
            "gridcolor": "white",
            "linecolor": "white",
            "ticks": ""
           }
          },
          "scene": {
           "xaxis": {
            "backgroundcolor": "#E5ECF6",
            "gridcolor": "white",
            "gridwidth": 2,
            "linecolor": "white",
            "showbackground": true,
            "ticks": "",
            "zerolinecolor": "white"
           },
           "yaxis": {
            "backgroundcolor": "#E5ECF6",
            "gridcolor": "white",
            "gridwidth": 2,
            "linecolor": "white",
            "showbackground": true,
            "ticks": "",
            "zerolinecolor": "white"
           },
           "zaxis": {
            "backgroundcolor": "#E5ECF6",
            "gridcolor": "white",
            "gridwidth": 2,
            "linecolor": "white",
            "showbackground": true,
            "ticks": "",
            "zerolinecolor": "white"
           }
          },
          "shapedefaults": {
           "line": {
            "color": "#2a3f5f"
           }
          },
          "ternary": {
           "aaxis": {
            "gridcolor": "white",
            "linecolor": "white",
            "ticks": ""
           },
           "baxis": {
            "gridcolor": "white",
            "linecolor": "white",
            "ticks": ""
           },
           "bgcolor": "#E5ECF6",
           "caxis": {
            "gridcolor": "white",
            "linecolor": "white",
            "ticks": ""
           }
          },
          "title": {
           "x": 0.05
          },
          "xaxis": {
           "automargin": true,
           "gridcolor": "white",
           "linecolor": "white",
           "ticks": "",
           "title": {
            "standoff": 15
           },
           "zerolinecolor": "white",
           "zerolinewidth": 2
          },
          "yaxis": {
           "automargin": true,
           "gridcolor": "white",
           "linecolor": "white",
           "ticks": "",
           "title": {
            "standoff": 15
           },
           "zerolinecolor": "white",
           "zerolinewidth": 2
          }
         }
        },
        "title": {
         "text": "Total Calories Burned Over Time"
        },
        "xaxis": {
         "anchor": "y",
         "domain": [
          0,
          1
         ],
         "title": {
          "text": "date"
         }
        },
        "yaxis": {
         "anchor": "x",
         "domain": [
          0,
          1
         ],
         "title": {
          "text": "Total Calories Burned (kcal)"
         }
        }
       }
      }
     },
     "metadata": {},
     "output_type": "display_data"
    }
   ],
   "source": [
    "fig = px.line(fitness_data, x='date', y='total_calories_burned', title='Total Calories Burned Over Time')\n",
    "fig.update_layout(yaxis_title='Total Calories Burned (kcal)')\n",
    "fig.show()"
   ]
  },
  {
   "cell_type": "markdown",
   "metadata": {},
   "source": [
    "Create a line chart for weight over time."
   ]
  },
  {
   "cell_type": "code",
   "execution_count": 45,
   "metadata": {},
   "outputs": [
    {
     "data": {
      "application/vnd.plotly.v1+json": {
       "config": {
        "plotlyServerURL": "https://plot.ly"
       },
       "data": [
        {
         "hovertemplate": "date=%{x}<br>body_weight_kg=%{y}<extra></extra>",
         "legendgroup": "",
         "line": {
          "color": "#636efa",
          "dash": "solid"
         },
         "marker": {
          "symbol": "circle"
         },
         "mode": "lines",
         "name": "",
         "orientation": "v",
         "showlegend": false,
         "type": "scatter",
         "x": [
          "2024-07-01T00:00:00.000000000",
          "2024-07-02T00:00:00.000000000",
          "2024-07-03T00:00:00.000000000",
          "2024-07-04T00:00:00.000000000",
          "2024-07-05T00:00:00.000000000",
          "2024-07-06T00:00:00.000000000",
          "2024-07-07T00:00:00.000000000",
          "2024-07-08T00:00:00.000000000",
          "2024-07-09T00:00:00.000000000",
          "2024-07-10T00:00:00.000000000",
          "2024-07-11T00:00:00.000000000",
          "2024-07-12T00:00:00.000000000",
          "2024-07-13T00:00:00.000000000",
          "2024-07-14T00:00:00.000000000",
          "2024-07-15T00:00:00.000000000",
          "2024-07-16T00:00:00.000000000",
          "2024-07-17T00:00:00.000000000",
          "2024-07-18T00:00:00.000000000",
          "2024-07-19T00:00:00.000000000",
          "2024-07-20T00:00:00.000000000",
          "2024-07-21T00:00:00.000000000",
          "2024-07-22T00:00:00.000000000",
          "2024-07-23T00:00:00.000000000",
          "2024-07-24T00:00:00.000000000",
          "2024-07-25T00:00:00.000000000",
          "2024-07-26T00:00:00.000000000",
          "2024-07-27T00:00:00.000000000",
          "2024-07-28T00:00:00.000000000",
          "2024-07-29T00:00:00.000000000",
          "2024-07-30T00:00:00.000000000",
          "2024-07-31T00:00:00.000000000",
          "2024-08-01T00:00:00.000000000",
          "2024-08-02T00:00:00.000000000",
          "2024-08-03T00:00:00.000000000",
          "2024-08-04T00:00:00.000000000",
          "2024-08-05T00:00:00.000000000",
          "2024-08-06T00:00:00.000000000",
          "2024-08-07T00:00:00.000000000",
          "2024-08-08T00:00:00.000000000",
          "2024-08-09T00:00:00.000000000",
          "2024-08-10T00:00:00.000000000",
          "2024-08-11T00:00:00.000000000",
          "2024-08-12T00:00:00.000000000",
          "2024-08-13T00:00:00.000000000",
          "2024-08-14T00:00:00.000000000",
          "2024-08-15T00:00:00.000000000",
          "2024-08-16T00:00:00.000000000",
          "2024-08-17T00:00:00.000000000",
          "2024-08-18T00:00:00.000000000",
          "2024-08-19T00:00:00.000000000",
          "2024-08-20T00:00:00.000000000",
          "2024-08-21T00:00:00.000000000",
          "2024-08-22T00:00:00.000000000",
          "2024-08-23T00:00:00.000000000",
          "2024-08-24T00:00:00.000000000",
          "2024-08-25T00:00:00.000000000",
          "2024-08-26T00:00:00.000000000",
          "2024-08-27T00:00:00.000000000",
          "2024-08-28T00:00:00.000000000",
          "2024-08-29T00:00:00.000000000",
          "2024-08-30T00:00:00.000000000",
          "2024-08-31T00:00:00.000000000",
          "2024-09-01T00:00:00.000000000",
          "2024-09-02T00:00:00.000000000",
          "2024-09-03T00:00:00.000000000",
          "2024-09-04T00:00:00.000000000",
          "2024-09-05T00:00:00.000000000",
          "2024-09-06T00:00:00.000000000",
          "2024-09-07T00:00:00.000000000",
          "2024-09-08T00:00:00.000000000",
          "2024-09-09T00:00:00.000000000",
          "2024-09-10T00:00:00.000000000",
          "2024-09-11T00:00:00.000000000",
          "2024-09-12T00:00:00.000000000",
          "2024-09-13T00:00:00.000000000",
          "2024-09-14T00:00:00.000000000",
          "2024-09-15T00:00:00.000000000",
          "2024-09-16T00:00:00.000000000",
          "2024-09-17T00:00:00.000000000",
          "2024-09-18T00:00:00.000000000",
          "2024-09-19T00:00:00.000000000",
          "2024-09-20T00:00:00.000000000",
          "2024-09-21T00:00:00.000000000",
          "2024-09-22T00:00:00.000000000",
          "2024-09-23T00:00:00.000000000",
          "2024-09-24T00:00:00.000000000",
          "2024-09-25T00:00:00.000000000",
          "2024-09-26T00:00:00.000000000",
          "2024-09-27T00:00:00.000000000",
          "2024-09-28T00:00:00.000000000",
          "2024-09-29T00:00:00.000000000",
          "2024-09-30T00:00:00.000000000",
          "2024-10-01T00:00:00.000000000",
          "2024-10-02T00:00:00.000000000",
          "2024-10-03T00:00:00.000000000",
          "2024-10-04T00:00:00.000000000",
          "2024-10-05T00:00:00.000000000",
          "2024-10-06T00:00:00.000000000",
          "2024-10-07T00:00:00.000000000",
          "2024-10-08T00:00:00.000000000",
          "2024-10-09T00:00:00.000000000",
          "2024-10-10T00:00:00.000000000",
          "2024-10-11T00:00:00.000000000",
          "2024-10-12T00:00:00.000000000",
          "2024-10-13T00:00:00.000000000",
          "2024-10-14T00:00:00.000000000",
          "2024-10-15T00:00:00.000000000",
          "2024-10-16T00:00:00.000000000",
          "2024-10-17T00:00:00.000000000",
          "2024-10-18T00:00:00.000000000",
          "2024-10-19T00:00:00.000000000",
          "2024-10-20T00:00:00.000000000",
          "2024-10-21T00:00:00.000000000",
          "2024-10-22T00:00:00.000000000",
          "2024-10-23T00:00:00.000000000",
          "2024-10-24T00:00:00.000000000",
          "2024-10-25T00:00:00.000000000",
          "2024-10-26T00:00:00.000000000",
          "2024-10-27T00:00:00.000000000",
          "2024-10-28T00:00:00.000000000",
          "2024-10-29T00:00:00.000000000",
          "2024-10-30T00:00:00.000000000",
          "2024-10-31T00:00:00.000000000",
          "2024-11-01T00:00:00.000000000",
          "2024-11-02T00:00:00.000000000",
          "2024-11-03T00:00:00.000000000",
          "2024-11-04T00:00:00.000000000",
          "2024-11-05T00:00:00.000000000",
          "2024-11-06T00:00:00.000000000",
          "2024-11-07T00:00:00.000000000",
          "2024-11-08T00:00:00.000000000",
          "2024-11-09T00:00:00.000000000",
          "2024-11-10T00:00:00.000000000",
          "2024-11-11T00:00:00.000000000",
          "2024-11-12T00:00:00.000000000",
          "2024-11-13T00:00:00.000000000",
          "2024-11-14T00:00:00.000000000",
          "2024-11-15T00:00:00.000000000",
          "2024-11-16T00:00:00.000000000",
          "2024-11-17T00:00:00.000000000",
          "2024-11-18T00:00:00.000000000",
          "2024-11-19T00:00:00.000000000",
          "2024-11-20T00:00:00.000000000",
          "2024-11-21T00:00:00.000000000",
          "2024-11-22T00:00:00.000000000",
          "2024-11-23T00:00:00.000000000",
          "2024-11-24T00:00:00.000000000",
          "2024-11-25T00:00:00.000000000",
          "2024-11-26T00:00:00.000000000",
          "2024-11-27T00:00:00.000000000",
          "2024-12-01T00:00:00.000000000",
          "2024-12-02T00:00:00.000000000",
          "2024-12-03T00:00:00.000000000",
          "2024-12-04T00:00:00.000000000",
          "2024-12-05T00:00:00.000000000",
          "2024-12-06T00:00:00.000000000",
          "2024-12-07T00:00:00.000000000",
          "2024-12-08T00:00:00.000000000",
          "2024-12-09T00:00:00.000000000",
          "2024-12-10T00:00:00.000000000",
          "2024-12-11T00:00:00.000000000",
          "2024-12-12T00:00:00.000000000",
          "2024-12-13T00:00:00.000000000",
          "2024-12-14T00:00:00.000000000",
          "2024-12-15T00:00:00.000000000",
          "2024-12-16T00:00:00.000000000",
          "2024-12-17T00:00:00.000000000",
          "2024-12-18T00:00:00.000000000",
          "2024-12-19T00:00:00.000000000",
          "2024-12-20T00:00:00.000000000",
          "2024-12-21T00:00:00.000000000",
          "2024-12-22T00:00:00.000000000",
          "2024-12-23T00:00:00.000000000",
          "2024-12-27T00:00:00.000000000",
          "2024-12-28T00:00:00.000000000",
          "2024-12-29T00:00:00.000000000",
          "2024-12-30T00:00:00.000000000",
          "2024-12-31T00:00:00.000000000",
          "2025-01-01T00:00:00.000000000"
         ],
         "xaxis": "x",
         "y": {
          "bdata": "mFQUFeXPUkD5W1o1iLpSQClcj8L1yFJAzczMzMzMUkDhehSuR9FSQPYoXI/C1VJACtejcD3aUkAxuYnpQNFSQATfuAWhqFJA16NwPQrnUkB7FK5H4epSQB+F61G47lJAe1H3lji7UkDXo3A9CvdSQHsUrkfh+lJAH4XrUbj+UkDD9ShcjwJTQGZmZmZmBlNAmpmZmZkJU0A9CtejcA1TQHE9CtejEFNApHA9CtcTU0BI4XoUrhdTQArXo3A9GlNAPQrXo3AdU0BxPQrXoyBTQDMzMzMzI1NA9ihcj8IlU0C4HoXrUShTQHsUrkfhKlNAPQrXo3AtU0CPwvUoXC9TQHsUrkfhKlNApHA9CtczU0AzMzMzMzNTQNejcD0KN1NAuB6F61E4U0AK16NwPTpTQOxRuB6FO1NAXI/C9Sg8U0BI4XoUrjdTQK5H4XoUPlNAH4XrUbg+U0CkcD0K10NTQFK4HoXrQVNAFK5H4XpEU0D2KFyPwkVTQDMzMzMzQ1NASOF6FK5HU0CPwvUoXD9TQHE9CtejQFNArkfhehQ+U0DhehSuRzFTQFyPwvUoPFNA7FG4HoU7U0AK16NwPTpTQEjhehSuN1NA7FG4HoU7U0CF61G4HjVTQEjhehSuN1NAUrgehesxU0CPwvUoXC9TQHE9CtejAFNAhetRuB71UkDNzMzMzNxSQDMzMzMz01JAMzMzMzPzUkCamZmZmclSQEjhehSut1JAZmZmZmaWUkB7FK5H4YpSQM3MzMzMbFJAexSuR+FqUkB7FK5H4VpSQMP1KFyPUlJAZmZmZmZWUkDsUbgehUtSQK5H4XoUTlJACtejcD1aUkBmZmZmZlZSQOxRuB6FS1JAFK5H4XokUkBSuB6F6zFSQIXrUbgeVVJAexSuR+FKUkDD9Shcj2JSQNejcD0KR1JA7FG4HoU7UkCPwvUoXC9SQDMzMzMzI1JA7FG4HoUbUkDhehSuRxFSQM3MzMzMHFJA4XoUrkcxUkDNzMzMzCxSQGZmZmZmNlJACtejcD06UkCuR+F6FP5RQDMzMzMzA1JAXI/C9Sj8UUBI4XoUrvdRQNejcD0KB1JAFK5H4XoUUkAK16NwPRpSQHsUrkfhKlJAPQrXo3AtUkBmZmZmZjZSQOxRuB6FO1JAFK5H4XpEUkBI4XoUrkdSQHsUrkfhSlJAw/UoXI9CUkB7FK5H4SpSQBSuR+F6JFJAuB6F61FoUkBcj8L1KGxSQMP1KFyPYlJAFK5H4XpkUkDNzMzMzFxSQI/C9ShcX1JASOF6FK5XUkAzMzMzM2NSQMP1KFyPUlJA7FG4HoVrUkCuR+F6FE5SQFyPwvUoTFJAexSuR+FKUkApXI/C9UhSQEjhehSuR1JAexSuR+FKUkCuR+F6FE5SQPYoXI/CVVJAw/UoXI9CUkBSuB6F60FSQOF6FK5HQVJAcT0K16NAUkCuR+F6FD5SQBSuR+F6RFJAexSuR+FKUkAzMzMzM0NSQNejcD0Kx1FAMzMzMzMDUkB7FK5H4QpSQIXrUbgeFVJAj8L1KFwPUkBcj8L1KAxSQOF6FK5HMVJAhetRuB5FUkD2KFyPwlVSQB+F61G4XlJA4XoUrkfxUkDXo3A9CvdSQClcj8L16FJAcT0K16MAU0CamZmZmQlTQPYoXI/CBVNAFK5H4XoEU0CamZmZmQlTQFyPwvUoDFNAH4XrUbgOU0D2KFyPwhVTQM3MzMzMHFNAcT0K16MgU0CPwvUoXA9TQIXrUbgeFVNAexSuR+EKU0CPwvUoXB9TQIXrUbgeFVNA4XoUrkcRU0AfhetRuC5TQKRwPQrXM1NA7FG4HoUrU0CPwvUoXB9TQHE9CtejgFNAXI/C9ShsU0DXo3A9CmdTQI/C9ShcX1NAMzMzMzNjU0B7FK5H4YpTQA==",
          "dtype": "f8"
         },
         "yaxis": "y"
        }
       ],
       "layout": {
        "legend": {
         "tracegroupgap": 0
        },
        "template": {
         "data": {
          "bar": [
           {
            "error_x": {
             "color": "#2a3f5f"
            },
            "error_y": {
             "color": "#2a3f5f"
            },
            "marker": {
             "line": {
              "color": "#E5ECF6",
              "width": 0.5
             },
             "pattern": {
              "fillmode": "overlay",
              "size": 10,
              "solidity": 0.2
             }
            },
            "type": "bar"
           }
          ],
          "barpolar": [
           {
            "marker": {
             "line": {
              "color": "#E5ECF6",
              "width": 0.5
             },
             "pattern": {
              "fillmode": "overlay",
              "size": 10,
              "solidity": 0.2
             }
            },
            "type": "barpolar"
           }
          ],
          "carpet": [
           {
            "aaxis": {
             "endlinecolor": "#2a3f5f",
             "gridcolor": "white",
             "linecolor": "white",
             "minorgridcolor": "white",
             "startlinecolor": "#2a3f5f"
            },
            "baxis": {
             "endlinecolor": "#2a3f5f",
             "gridcolor": "white",
             "linecolor": "white",
             "minorgridcolor": "white",
             "startlinecolor": "#2a3f5f"
            },
            "type": "carpet"
           }
          ],
          "choropleth": [
           {
            "colorbar": {
             "outlinewidth": 0,
             "ticks": ""
            },
            "type": "choropleth"
           }
          ],
          "contour": [
           {
            "colorbar": {
             "outlinewidth": 0,
             "ticks": ""
            },
            "colorscale": [
             [
              0,
              "#0d0887"
             ],
             [
              0.1111111111111111,
              "#46039f"
             ],
             [
              0.2222222222222222,
              "#7201a8"
             ],
             [
              0.3333333333333333,
              "#9c179e"
             ],
             [
              0.4444444444444444,
              "#bd3786"
             ],
             [
              0.5555555555555556,
              "#d8576b"
             ],
             [
              0.6666666666666666,
              "#ed7953"
             ],
             [
              0.7777777777777778,
              "#fb9f3a"
             ],
             [
              0.8888888888888888,
              "#fdca26"
             ],
             [
              1,
              "#f0f921"
             ]
            ],
            "type": "contour"
           }
          ],
          "contourcarpet": [
           {
            "colorbar": {
             "outlinewidth": 0,
             "ticks": ""
            },
            "type": "contourcarpet"
           }
          ],
          "heatmap": [
           {
            "colorbar": {
             "outlinewidth": 0,
             "ticks": ""
            },
            "colorscale": [
             [
              0,
              "#0d0887"
             ],
             [
              0.1111111111111111,
              "#46039f"
             ],
             [
              0.2222222222222222,
              "#7201a8"
             ],
             [
              0.3333333333333333,
              "#9c179e"
             ],
             [
              0.4444444444444444,
              "#bd3786"
             ],
             [
              0.5555555555555556,
              "#d8576b"
             ],
             [
              0.6666666666666666,
              "#ed7953"
             ],
             [
              0.7777777777777778,
              "#fb9f3a"
             ],
             [
              0.8888888888888888,
              "#fdca26"
             ],
             [
              1,
              "#f0f921"
             ]
            ],
            "type": "heatmap"
           }
          ],
          "histogram": [
           {
            "marker": {
             "pattern": {
              "fillmode": "overlay",
              "size": 10,
              "solidity": 0.2
             }
            },
            "type": "histogram"
           }
          ],
          "histogram2d": [
           {
            "colorbar": {
             "outlinewidth": 0,
             "ticks": ""
            },
            "colorscale": [
             [
              0,
              "#0d0887"
             ],
             [
              0.1111111111111111,
              "#46039f"
             ],
             [
              0.2222222222222222,
              "#7201a8"
             ],
             [
              0.3333333333333333,
              "#9c179e"
             ],
             [
              0.4444444444444444,
              "#bd3786"
             ],
             [
              0.5555555555555556,
              "#d8576b"
             ],
             [
              0.6666666666666666,
              "#ed7953"
             ],
             [
              0.7777777777777778,
              "#fb9f3a"
             ],
             [
              0.8888888888888888,
              "#fdca26"
             ],
             [
              1,
              "#f0f921"
             ]
            ],
            "type": "histogram2d"
           }
          ],
          "histogram2dcontour": [
           {
            "colorbar": {
             "outlinewidth": 0,
             "ticks": ""
            },
            "colorscale": [
             [
              0,
              "#0d0887"
             ],
             [
              0.1111111111111111,
              "#46039f"
             ],
             [
              0.2222222222222222,
              "#7201a8"
             ],
             [
              0.3333333333333333,
              "#9c179e"
             ],
             [
              0.4444444444444444,
              "#bd3786"
             ],
             [
              0.5555555555555556,
              "#d8576b"
             ],
             [
              0.6666666666666666,
              "#ed7953"
             ],
             [
              0.7777777777777778,
              "#fb9f3a"
             ],
             [
              0.8888888888888888,
              "#fdca26"
             ],
             [
              1,
              "#f0f921"
             ]
            ],
            "type": "histogram2dcontour"
           }
          ],
          "mesh3d": [
           {
            "colorbar": {
             "outlinewidth": 0,
             "ticks": ""
            },
            "type": "mesh3d"
           }
          ],
          "parcoords": [
           {
            "line": {
             "colorbar": {
              "outlinewidth": 0,
              "ticks": ""
             }
            },
            "type": "parcoords"
           }
          ],
          "pie": [
           {
            "automargin": true,
            "type": "pie"
           }
          ],
          "scatter": [
           {
            "fillpattern": {
             "fillmode": "overlay",
             "size": 10,
             "solidity": 0.2
            },
            "type": "scatter"
           }
          ],
          "scatter3d": [
           {
            "line": {
             "colorbar": {
              "outlinewidth": 0,
              "ticks": ""
             }
            },
            "marker": {
             "colorbar": {
              "outlinewidth": 0,
              "ticks": ""
             }
            },
            "type": "scatter3d"
           }
          ],
          "scattercarpet": [
           {
            "marker": {
             "colorbar": {
              "outlinewidth": 0,
              "ticks": ""
             }
            },
            "type": "scattercarpet"
           }
          ],
          "scattergeo": [
           {
            "marker": {
             "colorbar": {
              "outlinewidth": 0,
              "ticks": ""
             }
            },
            "type": "scattergeo"
           }
          ],
          "scattergl": [
           {
            "marker": {
             "colorbar": {
              "outlinewidth": 0,
              "ticks": ""
             }
            },
            "type": "scattergl"
           }
          ],
          "scattermap": [
           {
            "marker": {
             "colorbar": {
              "outlinewidth": 0,
              "ticks": ""
             }
            },
            "type": "scattermap"
           }
          ],
          "scattermapbox": [
           {
            "marker": {
             "colorbar": {
              "outlinewidth": 0,
              "ticks": ""
             }
            },
            "type": "scattermapbox"
           }
          ],
          "scatterpolar": [
           {
            "marker": {
             "colorbar": {
              "outlinewidth": 0,
              "ticks": ""
             }
            },
            "type": "scatterpolar"
           }
          ],
          "scatterpolargl": [
           {
            "marker": {
             "colorbar": {
              "outlinewidth": 0,
              "ticks": ""
             }
            },
            "type": "scatterpolargl"
           }
          ],
          "scatterternary": [
           {
            "marker": {
             "colorbar": {
              "outlinewidth": 0,
              "ticks": ""
             }
            },
            "type": "scatterternary"
           }
          ],
          "surface": [
           {
            "colorbar": {
             "outlinewidth": 0,
             "ticks": ""
            },
            "colorscale": [
             [
              0,
              "#0d0887"
             ],
             [
              0.1111111111111111,
              "#46039f"
             ],
             [
              0.2222222222222222,
              "#7201a8"
             ],
             [
              0.3333333333333333,
              "#9c179e"
             ],
             [
              0.4444444444444444,
              "#bd3786"
             ],
             [
              0.5555555555555556,
              "#d8576b"
             ],
             [
              0.6666666666666666,
              "#ed7953"
             ],
             [
              0.7777777777777778,
              "#fb9f3a"
             ],
             [
              0.8888888888888888,
              "#fdca26"
             ],
             [
              1,
              "#f0f921"
             ]
            ],
            "type": "surface"
           }
          ],
          "table": [
           {
            "cells": {
             "fill": {
              "color": "#EBF0F8"
             },
             "line": {
              "color": "white"
             }
            },
            "header": {
             "fill": {
              "color": "#C8D4E3"
             },
             "line": {
              "color": "white"
             }
            },
            "type": "table"
           }
          ]
         },
         "layout": {
          "annotationdefaults": {
           "arrowcolor": "#2a3f5f",
           "arrowhead": 0,
           "arrowwidth": 1
          },
          "autotypenumbers": "strict",
          "coloraxis": {
           "colorbar": {
            "outlinewidth": 0,
            "ticks": ""
           }
          },
          "colorscale": {
           "diverging": [
            [
             0,
             "#8e0152"
            ],
            [
             0.1,
             "#c51b7d"
            ],
            [
             0.2,
             "#de77ae"
            ],
            [
             0.3,
             "#f1b6da"
            ],
            [
             0.4,
             "#fde0ef"
            ],
            [
             0.5,
             "#f7f7f7"
            ],
            [
             0.6,
             "#e6f5d0"
            ],
            [
             0.7,
             "#b8e186"
            ],
            [
             0.8,
             "#7fbc41"
            ],
            [
             0.9,
             "#4d9221"
            ],
            [
             1,
             "#276419"
            ]
           ],
           "sequential": [
            [
             0,
             "#0d0887"
            ],
            [
             0.1111111111111111,
             "#46039f"
            ],
            [
             0.2222222222222222,
             "#7201a8"
            ],
            [
             0.3333333333333333,
             "#9c179e"
            ],
            [
             0.4444444444444444,
             "#bd3786"
            ],
            [
             0.5555555555555556,
             "#d8576b"
            ],
            [
             0.6666666666666666,
             "#ed7953"
            ],
            [
             0.7777777777777778,
             "#fb9f3a"
            ],
            [
             0.8888888888888888,
             "#fdca26"
            ],
            [
             1,
             "#f0f921"
            ]
           ],
           "sequentialminus": [
            [
             0,
             "#0d0887"
            ],
            [
             0.1111111111111111,
             "#46039f"
            ],
            [
             0.2222222222222222,
             "#7201a8"
            ],
            [
             0.3333333333333333,
             "#9c179e"
            ],
            [
             0.4444444444444444,
             "#bd3786"
            ],
            [
             0.5555555555555556,
             "#d8576b"
            ],
            [
             0.6666666666666666,
             "#ed7953"
            ],
            [
             0.7777777777777778,
             "#fb9f3a"
            ],
            [
             0.8888888888888888,
             "#fdca26"
            ],
            [
             1,
             "#f0f921"
            ]
           ]
          },
          "colorway": [
           "#636efa",
           "#EF553B",
           "#00cc96",
           "#ab63fa",
           "#FFA15A",
           "#19d3f3",
           "#FF6692",
           "#B6E880",
           "#FF97FF",
           "#FECB52"
          ],
          "font": {
           "color": "#2a3f5f"
          },
          "geo": {
           "bgcolor": "white",
           "lakecolor": "white",
           "landcolor": "#E5ECF6",
           "showlakes": true,
           "showland": true,
           "subunitcolor": "white"
          },
          "hoverlabel": {
           "align": "left"
          },
          "hovermode": "closest",
          "mapbox": {
           "style": "light"
          },
          "paper_bgcolor": "white",
          "plot_bgcolor": "#E5ECF6",
          "polar": {
           "angularaxis": {
            "gridcolor": "white",
            "linecolor": "white",
            "ticks": ""
           },
           "bgcolor": "#E5ECF6",
           "radialaxis": {
            "gridcolor": "white",
            "linecolor": "white",
            "ticks": ""
           }
          },
          "scene": {
           "xaxis": {
            "backgroundcolor": "#E5ECF6",
            "gridcolor": "white",
            "gridwidth": 2,
            "linecolor": "white",
            "showbackground": true,
            "ticks": "",
            "zerolinecolor": "white"
           },
           "yaxis": {
            "backgroundcolor": "#E5ECF6",
            "gridcolor": "white",
            "gridwidth": 2,
            "linecolor": "white",
            "showbackground": true,
            "ticks": "",
            "zerolinecolor": "white"
           },
           "zaxis": {
            "backgroundcolor": "#E5ECF6",
            "gridcolor": "white",
            "gridwidth": 2,
            "linecolor": "white",
            "showbackground": true,
            "ticks": "",
            "zerolinecolor": "white"
           }
          },
          "shapedefaults": {
           "line": {
            "color": "#2a3f5f"
           }
          },
          "ternary": {
           "aaxis": {
            "gridcolor": "white",
            "linecolor": "white",
            "ticks": ""
           },
           "baxis": {
            "gridcolor": "white",
            "linecolor": "white",
            "ticks": ""
           },
           "bgcolor": "#E5ECF6",
           "caxis": {
            "gridcolor": "white",
            "linecolor": "white",
            "ticks": ""
           }
          },
          "title": {
           "x": 0.05
          },
          "xaxis": {
           "automargin": true,
           "gridcolor": "white",
           "linecolor": "white",
           "ticks": "",
           "title": {
            "standoff": 15
           },
           "zerolinecolor": "white",
           "zerolinewidth": 2
          },
          "yaxis": {
           "automargin": true,
           "gridcolor": "white",
           "linecolor": "white",
           "ticks": "",
           "title": {
            "standoff": 15
           },
           "zerolinecolor": "white",
           "zerolinewidth": 2
          }
         }
        },
        "title": {
         "text": "Body Weight Over Time"
        },
        "xaxis": {
         "anchor": "y",
         "domain": [
          0,
          1
         ],
         "title": {
          "text": "Date"
         }
        },
        "yaxis": {
         "anchor": "x",
         "domain": [
          0,
          1
         ],
         "title": {
          "text": "Body Weight (kg)"
         }
        }
       }
      }
     },
     "metadata": {},
     "output_type": "display_data"
    }
   ],
   "source": [
    "fig = px.line(fitness_data, x='date', y='body_weight_kg', title='Body Weight Over Time')\n",
    "fig.update_layout(xaxis_title='Date', yaxis_title='Body Weight (kg)')\n",
    "fig.show()"
   ]
  }
 ],
 "metadata": {
  "kernelspec": {
   "display_name": "Python 3",
   "language": "python",
   "name": "python3"
  },
  "language_info": {
   "codemirror_mode": {
    "name": "ipython",
    "version": 3
   },
   "file_extension": ".py",
   "mimetype": "text/x-python",
   "name": "python",
   "nbconvert_exporter": "python",
   "pygments_lexer": "ipython3",
   "version": "3.10.12"
  }
 },
 "nbformat": 4,
 "nbformat_minor": 2
}
